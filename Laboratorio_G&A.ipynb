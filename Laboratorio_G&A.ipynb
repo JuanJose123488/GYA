{
  "nbformat": 4,
  "nbformat_minor": 0,
  "metadata": {
    "colab": {
      "provenance": []
    },
    "kernelspec": {
      "name": "python3",
      "display_name": "Python 3"
    },
    "language_info": {
      "name": "python"
    }
  },
  "cells": [
    {
      "cell_type": "code",
      "execution_count": 2,
      "metadata": {
        "id": "yfmPTLwvE7l1"
      },
      "outputs": [],
      "source": [
        "##Integrantes:\n",
        "# Daniela hernandez Uribe\n",
        "# Juan Jose Gomez\n",
        "# Diana Patricia Segura\n",
        "\n",
        "\n",
        "#importar librerias necesarias\n",
        "import pandas as pd\n",
        "import numpy as np\n",
        "import matplotlib.pyplot as plt\n",
        "import seaborn as sns\n",
        "import re"
      ]
    },
    {
      "cell_type": "code",
      "source": [
        "#1. Cargar el dataset desde un archivo Excel (Dataset_Clientes_Colombia.xlsx)\n",
        "df_dataset = pd.read_excel(\"/content/Dataset_Clientes_Colombia (1).xlsx\")\n",
        "df_dataset #muestra los datos"
      ],
      "metadata": {
        "id": "GtolLB4pGbYj",
        "colab": {
          "base_uri": "https://localhost:8080/",
          "height": 614
        },
        "collapsed": true,
        "outputId": "8e4c2fb6-1873-468f-de05-953d426c3d04"
      },
      "execution_count": 5,
      "outputs": [
        {
          "output_type": "execute_result",
          "data": {
            "text/plain": [
              "      ID Compra     Nombre    Apellido Electrodoméstico  Cantidad  \\\n",
              "0      CL-00001     Marcia       PARRA           Nevera       5.0   \n",
              "1      CL-00002    Alfonso        ROMA          Plancha       1.0   \n",
              "2      CL-00003        NaN      DUE%AS  Horno eléctrico       3.0   \n",
              "3      CL-00004    Gonzalo   SEBASTIÁN        Licuadora       3.0   \n",
              "4      CL-00005   Ambrosio        PRAT         Lavadora       5.0   \n",
              "...         ...        ...         ...              ...       ...   \n",
              "11270  CL-11271    Eusebia     BÁRCENA       Aspiradora       1.0   \n",
              "11271  CL-11272      Trini       GALLO       Microondas       3.0   \n",
              "11272  CL-11273   Bautista  VILLAVERDE         Lavadora       5.0   \n",
              "11273  CL-11274    Jordana     CABRERA         Cafetera       5.0   \n",
              "11274  CL-11275  Prudencio    QUINTERO       Ventilador       2.0   \n",
              "\n",
              "       Valor Unitario  Valor Total Fecha Compra Hora Compra  \n",
              "0             1800000      9000000   2023-07-12    03:27:54  \n",
              "1              150000       150000   2023-01-16    04:34:05  \n",
              "2              500000      1500000   2022-09-21    20:18:45  \n",
              "3              250000       750000   2024-05-23    15:39:00  \n",
              "4             1500000      7500000   2022-09-08    13:57:58  \n",
              "...               ...          ...          ...         ...  \n",
              "11270          600000       600000   2024-04-02    21:34:06  \n",
              "11271          400000      1200000   2023-08-29    01:20:59  \n",
              "11272         1500000      7500000   2024-03-04    05:50:19  \n",
              "11273          300000      1500000   2022-05-26    21:24:03  \n",
              "11274          200000       400000   2022-12-23    22:51:24  \n",
              "\n",
              "[11275 rows x 9 columns]"
            ],
            "text/html": [
              "\n",
              "  <div id=\"df-e5ae6149-43af-4eb3-95a9-d6d55ee5686f\" class=\"colab-df-container\">\n",
              "    <div>\n",
              "<style scoped>\n",
              "    .dataframe tbody tr th:only-of-type {\n",
              "        vertical-align: middle;\n",
              "    }\n",
              "\n",
              "    .dataframe tbody tr th {\n",
              "        vertical-align: top;\n",
              "    }\n",
              "\n",
              "    .dataframe thead th {\n",
              "        text-align: right;\n",
              "    }\n",
              "</style>\n",
              "<table border=\"1\" class=\"dataframe\">\n",
              "  <thead>\n",
              "    <tr style=\"text-align: right;\">\n",
              "      <th></th>\n",
              "      <th>ID Compra</th>\n",
              "      <th>Nombre</th>\n",
              "      <th>Apellido</th>\n",
              "      <th>Electrodoméstico</th>\n",
              "      <th>Cantidad</th>\n",
              "      <th>Valor Unitario</th>\n",
              "      <th>Valor Total</th>\n",
              "      <th>Fecha Compra</th>\n",
              "      <th>Hora Compra</th>\n",
              "    </tr>\n",
              "  </thead>\n",
              "  <tbody>\n",
              "    <tr>\n",
              "      <th>0</th>\n",
              "      <td>CL-00001</td>\n",
              "      <td>Marcia</td>\n",
              "      <td>PARRA</td>\n",
              "      <td>Nevera</td>\n",
              "      <td>5.0</td>\n",
              "      <td>1800000</td>\n",
              "      <td>9000000</td>\n",
              "      <td>2023-07-12</td>\n",
              "      <td>03:27:54</td>\n",
              "    </tr>\n",
              "    <tr>\n",
              "      <th>1</th>\n",
              "      <td>CL-00002</td>\n",
              "      <td>Alfonso</td>\n",
              "      <td>ROMA</td>\n",
              "      <td>Plancha</td>\n",
              "      <td>1.0</td>\n",
              "      <td>150000</td>\n",
              "      <td>150000</td>\n",
              "      <td>2023-01-16</td>\n",
              "      <td>04:34:05</td>\n",
              "    </tr>\n",
              "    <tr>\n",
              "      <th>2</th>\n",
              "      <td>CL-00003</td>\n",
              "      <td>NaN</td>\n",
              "      <td>DUE%AS</td>\n",
              "      <td>Horno eléctrico</td>\n",
              "      <td>3.0</td>\n",
              "      <td>500000</td>\n",
              "      <td>1500000</td>\n",
              "      <td>2022-09-21</td>\n",
              "      <td>20:18:45</td>\n",
              "    </tr>\n",
              "    <tr>\n",
              "      <th>3</th>\n",
              "      <td>CL-00004</td>\n",
              "      <td>Gonzalo</td>\n",
              "      <td>SEBASTIÁN</td>\n",
              "      <td>Licuadora</td>\n",
              "      <td>3.0</td>\n",
              "      <td>250000</td>\n",
              "      <td>750000</td>\n",
              "      <td>2024-05-23</td>\n",
              "      <td>15:39:00</td>\n",
              "    </tr>\n",
              "    <tr>\n",
              "      <th>4</th>\n",
              "      <td>CL-00005</td>\n",
              "      <td>Ambrosio</td>\n",
              "      <td>PRAT</td>\n",
              "      <td>Lavadora</td>\n",
              "      <td>5.0</td>\n",
              "      <td>1500000</td>\n",
              "      <td>7500000</td>\n",
              "      <td>2022-09-08</td>\n",
              "      <td>13:57:58</td>\n",
              "    </tr>\n",
              "    <tr>\n",
              "      <th>...</th>\n",
              "      <td>...</td>\n",
              "      <td>...</td>\n",
              "      <td>...</td>\n",
              "      <td>...</td>\n",
              "      <td>...</td>\n",
              "      <td>...</td>\n",
              "      <td>...</td>\n",
              "      <td>...</td>\n",
              "      <td>...</td>\n",
              "    </tr>\n",
              "    <tr>\n",
              "      <th>11270</th>\n",
              "      <td>CL-11271</td>\n",
              "      <td>Eusebia</td>\n",
              "      <td>BÁRCENA</td>\n",
              "      <td>Aspiradora</td>\n",
              "      <td>1.0</td>\n",
              "      <td>600000</td>\n",
              "      <td>600000</td>\n",
              "      <td>2024-04-02</td>\n",
              "      <td>21:34:06</td>\n",
              "    </tr>\n",
              "    <tr>\n",
              "      <th>11271</th>\n",
              "      <td>CL-11272</td>\n",
              "      <td>Trini</td>\n",
              "      <td>GALLO</td>\n",
              "      <td>Microondas</td>\n",
              "      <td>3.0</td>\n",
              "      <td>400000</td>\n",
              "      <td>1200000</td>\n",
              "      <td>2023-08-29</td>\n",
              "      <td>01:20:59</td>\n",
              "    </tr>\n",
              "    <tr>\n",
              "      <th>11272</th>\n",
              "      <td>CL-11273</td>\n",
              "      <td>Bautista</td>\n",
              "      <td>VILLAVERDE</td>\n",
              "      <td>Lavadora</td>\n",
              "      <td>5.0</td>\n",
              "      <td>1500000</td>\n",
              "      <td>7500000</td>\n",
              "      <td>2024-03-04</td>\n",
              "      <td>05:50:19</td>\n",
              "    </tr>\n",
              "    <tr>\n",
              "      <th>11273</th>\n",
              "      <td>CL-11274</td>\n",
              "      <td>Jordana</td>\n",
              "      <td>CABRERA</td>\n",
              "      <td>Cafetera</td>\n",
              "      <td>5.0</td>\n",
              "      <td>300000</td>\n",
              "      <td>1500000</td>\n",
              "      <td>2022-05-26</td>\n",
              "      <td>21:24:03</td>\n",
              "    </tr>\n",
              "    <tr>\n",
              "      <th>11274</th>\n",
              "      <td>CL-11275</td>\n",
              "      <td>Prudencio</td>\n",
              "      <td>QUINTERO</td>\n",
              "      <td>Ventilador</td>\n",
              "      <td>2.0</td>\n",
              "      <td>200000</td>\n",
              "      <td>400000</td>\n",
              "      <td>2022-12-23</td>\n",
              "      <td>22:51:24</td>\n",
              "    </tr>\n",
              "  </tbody>\n",
              "</table>\n",
              "<p>11275 rows × 9 columns</p>\n",
              "</div>\n",
              "    <div class=\"colab-df-buttons\">\n",
              "\n",
              "  <div class=\"colab-df-container\">\n",
              "    <button class=\"colab-df-convert\" onclick=\"convertToInteractive('df-e5ae6149-43af-4eb3-95a9-d6d55ee5686f')\"\n",
              "            title=\"Convert this dataframe to an interactive table.\"\n",
              "            style=\"display:none;\">\n",
              "\n",
              "  <svg xmlns=\"http://www.w3.org/2000/svg\" height=\"24px\" viewBox=\"0 -960 960 960\">\n",
              "    <path d=\"M120-120v-720h720v720H120Zm60-500h600v-160H180v160Zm220 220h160v-160H400v160Zm0 220h160v-160H400v160ZM180-400h160v-160H180v160Zm440 0h160v-160H620v160ZM180-180h160v-160H180v160Zm440 0h160v-160H620v160Z\"/>\n",
              "  </svg>\n",
              "    </button>\n",
              "\n",
              "  <style>\n",
              "    .colab-df-container {\n",
              "      display:flex;\n",
              "      gap: 12px;\n",
              "    }\n",
              "\n",
              "    .colab-df-convert {\n",
              "      background-color: #E8F0FE;\n",
              "      border: none;\n",
              "      border-radius: 50%;\n",
              "      cursor: pointer;\n",
              "      display: none;\n",
              "      fill: #1967D2;\n",
              "      height: 32px;\n",
              "      padding: 0 0 0 0;\n",
              "      width: 32px;\n",
              "    }\n",
              "\n",
              "    .colab-df-convert:hover {\n",
              "      background-color: #E2EBFA;\n",
              "      box-shadow: 0px 1px 2px rgba(60, 64, 67, 0.3), 0px 1px 3px 1px rgba(60, 64, 67, 0.15);\n",
              "      fill: #174EA6;\n",
              "    }\n",
              "\n",
              "    .colab-df-buttons div {\n",
              "      margin-bottom: 4px;\n",
              "    }\n",
              "\n",
              "    [theme=dark] .colab-df-convert {\n",
              "      background-color: #3B4455;\n",
              "      fill: #D2E3FC;\n",
              "    }\n",
              "\n",
              "    [theme=dark] .colab-df-convert:hover {\n",
              "      background-color: #434B5C;\n",
              "      box-shadow: 0px 1px 3px 1px rgba(0, 0, 0, 0.15);\n",
              "      filter: drop-shadow(0px 1px 2px rgba(0, 0, 0, 0.3));\n",
              "      fill: #FFFFFF;\n",
              "    }\n",
              "  </style>\n",
              "\n",
              "    <script>\n",
              "      const buttonEl =\n",
              "        document.querySelector('#df-e5ae6149-43af-4eb3-95a9-d6d55ee5686f button.colab-df-convert');\n",
              "      buttonEl.style.display =\n",
              "        google.colab.kernel.accessAllowed ? 'block' : 'none';\n",
              "\n",
              "      async function convertToInteractive(key) {\n",
              "        const element = document.querySelector('#df-e5ae6149-43af-4eb3-95a9-d6d55ee5686f');\n",
              "        const dataTable =\n",
              "          await google.colab.kernel.invokeFunction('convertToInteractive',\n",
              "                                                    [key], {});\n",
              "        if (!dataTable) return;\n",
              "\n",
              "        const docLinkHtml = 'Like what you see? Visit the ' +\n",
              "          '<a target=\"_blank\" href=https://colab.research.google.com/notebooks/data_table.ipynb>data table notebook</a>'\n",
              "          + ' to learn more about interactive tables.';\n",
              "        element.innerHTML = '';\n",
              "        dataTable['output_type'] = 'display_data';\n",
              "        await google.colab.output.renderOutput(dataTable, element);\n",
              "        const docLink = document.createElement('div');\n",
              "        docLink.innerHTML = docLinkHtml;\n",
              "        element.appendChild(docLink);\n",
              "      }\n",
              "    </script>\n",
              "  </div>\n",
              "\n",
              "\n",
              "<div id=\"df-8f851acf-024f-40bc-b7eb-64815fa2403a\">\n",
              "  <button class=\"colab-df-quickchart\" onclick=\"quickchart('df-8f851acf-024f-40bc-b7eb-64815fa2403a')\"\n",
              "            title=\"Suggest charts\"\n",
              "            style=\"display:none;\">\n",
              "\n",
              "<svg xmlns=\"http://www.w3.org/2000/svg\" height=\"24px\"viewBox=\"0 0 24 24\"\n",
              "     width=\"24px\">\n",
              "    <g>\n",
              "        <path d=\"M19 3H5c-1.1 0-2 .9-2 2v14c0 1.1.9 2 2 2h14c1.1 0 2-.9 2-2V5c0-1.1-.9-2-2-2zM9 17H7v-7h2v7zm4 0h-2V7h2v10zm4 0h-2v-4h2v4z\"/>\n",
              "    </g>\n",
              "</svg>\n",
              "  </button>\n",
              "\n",
              "<style>\n",
              "  .colab-df-quickchart {\n",
              "      --bg-color: #E8F0FE;\n",
              "      --fill-color: #1967D2;\n",
              "      --hover-bg-color: #E2EBFA;\n",
              "      --hover-fill-color: #174EA6;\n",
              "      --disabled-fill-color: #AAA;\n",
              "      --disabled-bg-color: #DDD;\n",
              "  }\n",
              "\n",
              "  [theme=dark] .colab-df-quickchart {\n",
              "      --bg-color: #3B4455;\n",
              "      --fill-color: #D2E3FC;\n",
              "      --hover-bg-color: #434B5C;\n",
              "      --hover-fill-color: #FFFFFF;\n",
              "      --disabled-bg-color: #3B4455;\n",
              "      --disabled-fill-color: #666;\n",
              "  }\n",
              "\n",
              "  .colab-df-quickchart {\n",
              "    background-color: var(--bg-color);\n",
              "    border: none;\n",
              "    border-radius: 50%;\n",
              "    cursor: pointer;\n",
              "    display: none;\n",
              "    fill: var(--fill-color);\n",
              "    height: 32px;\n",
              "    padding: 0;\n",
              "    width: 32px;\n",
              "  }\n",
              "\n",
              "  .colab-df-quickchart:hover {\n",
              "    background-color: var(--hover-bg-color);\n",
              "    box-shadow: 0 1px 2px rgba(60, 64, 67, 0.3), 0 1px 3px 1px rgba(60, 64, 67, 0.15);\n",
              "    fill: var(--button-hover-fill-color);\n",
              "  }\n",
              "\n",
              "  .colab-df-quickchart-complete:disabled,\n",
              "  .colab-df-quickchart-complete:disabled:hover {\n",
              "    background-color: var(--disabled-bg-color);\n",
              "    fill: var(--disabled-fill-color);\n",
              "    box-shadow: none;\n",
              "  }\n",
              "\n",
              "  .colab-df-spinner {\n",
              "    border: 2px solid var(--fill-color);\n",
              "    border-color: transparent;\n",
              "    border-bottom-color: var(--fill-color);\n",
              "    animation:\n",
              "      spin 1s steps(1) infinite;\n",
              "  }\n",
              "\n",
              "  @keyframes spin {\n",
              "    0% {\n",
              "      border-color: transparent;\n",
              "      border-bottom-color: var(--fill-color);\n",
              "      border-left-color: var(--fill-color);\n",
              "    }\n",
              "    20% {\n",
              "      border-color: transparent;\n",
              "      border-left-color: var(--fill-color);\n",
              "      border-top-color: var(--fill-color);\n",
              "    }\n",
              "    30% {\n",
              "      border-color: transparent;\n",
              "      border-left-color: var(--fill-color);\n",
              "      border-top-color: var(--fill-color);\n",
              "      border-right-color: var(--fill-color);\n",
              "    }\n",
              "    40% {\n",
              "      border-color: transparent;\n",
              "      border-right-color: var(--fill-color);\n",
              "      border-top-color: var(--fill-color);\n",
              "    }\n",
              "    60% {\n",
              "      border-color: transparent;\n",
              "      border-right-color: var(--fill-color);\n",
              "    }\n",
              "    80% {\n",
              "      border-color: transparent;\n",
              "      border-right-color: var(--fill-color);\n",
              "      border-bottom-color: var(--fill-color);\n",
              "    }\n",
              "    90% {\n",
              "      border-color: transparent;\n",
              "      border-bottom-color: var(--fill-color);\n",
              "    }\n",
              "  }\n",
              "</style>\n",
              "\n",
              "  <script>\n",
              "    async function quickchart(key) {\n",
              "      const quickchartButtonEl =\n",
              "        document.querySelector('#' + key + ' button');\n",
              "      quickchartButtonEl.disabled = true;  // To prevent multiple clicks.\n",
              "      quickchartButtonEl.classList.add('colab-df-spinner');\n",
              "      try {\n",
              "        const charts = await google.colab.kernel.invokeFunction(\n",
              "            'suggestCharts', [key], {});\n",
              "      } catch (error) {\n",
              "        console.error('Error during call to suggestCharts:', error);\n",
              "      }\n",
              "      quickchartButtonEl.classList.remove('colab-df-spinner');\n",
              "      quickchartButtonEl.classList.add('colab-df-quickchart-complete');\n",
              "    }\n",
              "    (() => {\n",
              "      let quickchartButtonEl =\n",
              "        document.querySelector('#df-8f851acf-024f-40bc-b7eb-64815fa2403a button');\n",
              "      quickchartButtonEl.style.display =\n",
              "        google.colab.kernel.accessAllowed ? 'block' : 'none';\n",
              "    })();\n",
              "  </script>\n",
              "</div>\n",
              "\n",
              "  <div id=\"id_ab6cbc01-1a86-4673-976c-25b51b796c90\">\n",
              "    <style>\n",
              "      .colab-df-generate {\n",
              "        background-color: #E8F0FE;\n",
              "        border: none;\n",
              "        border-radius: 50%;\n",
              "        cursor: pointer;\n",
              "        display: none;\n",
              "        fill: #1967D2;\n",
              "        height: 32px;\n",
              "        padding: 0 0 0 0;\n",
              "        width: 32px;\n",
              "      }\n",
              "\n",
              "      .colab-df-generate:hover {\n",
              "        background-color: #E2EBFA;\n",
              "        box-shadow: 0px 1px 2px rgba(60, 64, 67, 0.3), 0px 1px 3px 1px rgba(60, 64, 67, 0.15);\n",
              "        fill: #174EA6;\n",
              "      }\n",
              "\n",
              "      [theme=dark] .colab-df-generate {\n",
              "        background-color: #3B4455;\n",
              "        fill: #D2E3FC;\n",
              "      }\n",
              "\n",
              "      [theme=dark] .colab-df-generate:hover {\n",
              "        background-color: #434B5C;\n",
              "        box-shadow: 0px 1px 3px 1px rgba(0, 0, 0, 0.15);\n",
              "        filter: drop-shadow(0px 1px 2px rgba(0, 0, 0, 0.3));\n",
              "        fill: #FFFFFF;\n",
              "      }\n",
              "    </style>\n",
              "    <button class=\"colab-df-generate\" onclick=\"generateWithVariable('df_dataset')\"\n",
              "            title=\"Generate code using this dataframe.\"\n",
              "            style=\"display:none;\">\n",
              "\n",
              "  <svg xmlns=\"http://www.w3.org/2000/svg\" height=\"24px\"viewBox=\"0 0 24 24\"\n",
              "       width=\"24px\">\n",
              "    <path d=\"M7,19H8.4L18.45,9,17,7.55,7,17.6ZM5,21V16.75L18.45,3.32a2,2,0,0,1,2.83,0l1.4,1.43a1.91,1.91,0,0,1,.58,1.4,1.91,1.91,0,0,1-.58,1.4L9.25,21ZM18.45,9,17,7.55Zm-12,3A5.31,5.31,0,0,0,4.9,8.1,5.31,5.31,0,0,0,1,6.5,5.31,5.31,0,0,0,4.9,4.9,5.31,5.31,0,0,0,6.5,1,5.31,5.31,0,0,0,8.1,4.9,5.31,5.31,0,0,0,12,6.5,5.46,5.46,0,0,0,6.5,12Z\"/>\n",
              "  </svg>\n",
              "    </button>\n",
              "    <script>\n",
              "      (() => {\n",
              "      const buttonEl =\n",
              "        document.querySelector('#id_ab6cbc01-1a86-4673-976c-25b51b796c90 button.colab-df-generate');\n",
              "      buttonEl.style.display =\n",
              "        google.colab.kernel.accessAllowed ? 'block' : 'none';\n",
              "\n",
              "      buttonEl.onclick = () => {\n",
              "        google.colab.notebook.generateWithVariable('df_dataset');\n",
              "      }\n",
              "      })();\n",
              "    </script>\n",
              "  </div>\n",
              "\n",
              "    </div>\n",
              "  </div>\n"
            ],
            "application/vnd.google.colaboratory.intrinsic+json": {
              "type": "dataframe",
              "variable_name": "df_dataset",
              "summary": "{\n  \"name\": \"df_dataset\",\n  \"rows\": 11275,\n  \"fields\": [\n    {\n      \"column\": \"ID Compra\",\n      \"properties\": {\n        \"dtype\": \"string\",\n        \"num_unique_values\": 11275,\n        \"samples\": [\n          \"CL-03356\",\n          \"CL-00322\",\n          \"CL-04809\"\n        ],\n        \"semantic_type\": \"\",\n        \"description\": \"\"\n      }\n    },\n    {\n      \"column\": \"Nombre\",\n      \"properties\": {\n        \"dtype\": \"category\",\n        \"num_unique_values\": 934,\n        \"samples\": [\n          \"Julieta\",\n          \"Florentina\",\n          \"Marcos\"\n        ],\n        \"semantic_type\": \"\",\n        \"description\": \"\"\n      }\n    },\n    {\n      \"column\": \"Apellido\",\n      \"properties\": {\n        \"dtype\": \"category\",\n        \"num_unique_values\": 1085,\n        \"samples\": [\n          \"GALLO\",\n          \"ZURITA\",\n          \"PAREJA\"\n        ],\n        \"semantic_type\": \"\",\n        \"description\": \"\"\n      }\n    },\n    {\n      \"column\": \"Electrodom\\u00e9stico\",\n      \"properties\": {\n        \"dtype\": \"category\",\n        \"num_unique_values\": 10,\n        \"samples\": [\n          \"Cafetera\",\n          \"Plancha\",\n          \"Microondas\"\n        ],\n        \"semantic_type\": \"\",\n        \"description\": \"\"\n      }\n    },\n    {\n      \"column\": \"Cantidad\",\n      \"properties\": {\n        \"dtype\": \"number\",\n        \"std\": 1.4144729005106242,\n        \"min\": 1.0,\n        \"max\": 5.0,\n        \"num_unique_values\": 5,\n        \"samples\": [\n          1.0,\n          2.0,\n          3.0\n        ],\n        \"semantic_type\": \"\",\n        \"description\": \"\"\n      }\n    },\n    {\n      \"column\": \"Valor Unitario\",\n      \"properties\": {\n        \"dtype\": \"number\",\n        \"std\": 562770,\n        \"min\": 150000,\n        \"max\": 1800000,\n        \"num_unique_values\": 10,\n        \"samples\": [\n          600000,\n          150000,\n          400000\n        ],\n        \"semantic_type\": \"\",\n        \"description\": \"\"\n      }\n    },\n    {\n      \"column\": \"Valor Total\",\n      \"properties\": {\n        \"dtype\": \"number\",\n        \"std\": 2101432,\n        \"min\": 150000,\n        \"max\": 9000000,\n        \"num_unique_values\": 29,\n        \"samples\": [\n          300000,\n          7200000,\n          6000000\n        ],\n        \"semantic_type\": \"\",\n        \"description\": \"\"\n      }\n    },\n    {\n      \"column\": \"Fecha Compra\",\n      \"properties\": {\n        \"dtype\": \"category\",\n        \"num_unique_values\": 1243,\n        \"samples\": [\n          \"2024-01-16\",\n          \"26/02/24\",\n          \"2024-04-17\"\n        ],\n        \"semantic_type\": \"\",\n        \"description\": \"\"\n      }\n    },\n    {\n      \"column\": \"Hora Compra\",\n      \"properties\": {\n        \"dtype\": \"object\",\n        \"num_unique_values\": 10545,\n        \"samples\": [\n          \"08:43:48\",\n          \"05:08:33\",\n          \"13:25:59\"\n        ],\n        \"semantic_type\": \"\",\n        \"description\": \"\"\n      }\n    }\n  ]\n}"
            }
          },
          "metadata": {},
          "execution_count": 5
        }
      ]
    },
    {
      "cell_type": "code",
      "source": [
        "#2. muestra los valores nulos por columna\n",
        "df_dataset.isnull().sum()"
      ],
      "metadata": {
        "colab": {
          "base_uri": "https://localhost:8080/",
          "height": 366
        },
        "collapsed": true,
        "id": "h8oXcbK3HveT",
        "outputId": "d07d7af5-38e2-4f9c-a502-0786fe40d695"
      },
      "execution_count": 6,
      "outputs": [
        {
          "output_type": "execute_result",
          "data": {
            "text/plain": [
              "ID Compra            0\n",
              "Nombre              21\n",
              "Apellido            20\n",
              "Electrodoméstico    21\n",
              "Cantidad            10\n",
              "Valor Unitario       0\n",
              "Valor Total          0\n",
              "Fecha Compra         0\n",
              "Hora Compra          0\n",
              "dtype: int64"
            ],
            "text/html": [
              "<div>\n",
              "<style scoped>\n",
              "    .dataframe tbody tr th:only-of-type {\n",
              "        vertical-align: middle;\n",
              "    }\n",
              "\n",
              "    .dataframe tbody tr th {\n",
              "        vertical-align: top;\n",
              "    }\n",
              "\n",
              "    .dataframe thead th {\n",
              "        text-align: right;\n",
              "    }\n",
              "</style>\n",
              "<table border=\"1\" class=\"dataframe\">\n",
              "  <thead>\n",
              "    <tr style=\"text-align: right;\">\n",
              "      <th></th>\n",
              "      <th>0</th>\n",
              "    </tr>\n",
              "  </thead>\n",
              "  <tbody>\n",
              "    <tr>\n",
              "      <th>ID Compra</th>\n",
              "      <td>0</td>\n",
              "    </tr>\n",
              "    <tr>\n",
              "      <th>Nombre</th>\n",
              "      <td>21</td>\n",
              "    </tr>\n",
              "    <tr>\n",
              "      <th>Apellido</th>\n",
              "      <td>20</td>\n",
              "    </tr>\n",
              "    <tr>\n",
              "      <th>Electrodoméstico</th>\n",
              "      <td>21</td>\n",
              "    </tr>\n",
              "    <tr>\n",
              "      <th>Cantidad</th>\n",
              "      <td>10</td>\n",
              "    </tr>\n",
              "    <tr>\n",
              "      <th>Valor Unitario</th>\n",
              "      <td>0</td>\n",
              "    </tr>\n",
              "    <tr>\n",
              "      <th>Valor Total</th>\n",
              "      <td>0</td>\n",
              "    </tr>\n",
              "    <tr>\n",
              "      <th>Fecha Compra</th>\n",
              "      <td>0</td>\n",
              "    </tr>\n",
              "    <tr>\n",
              "      <th>Hora Compra</th>\n",
              "      <td>0</td>\n",
              "    </tr>\n",
              "  </tbody>\n",
              "</table>\n",
              "</div><br><label><b>dtype:</b> int64</label>"
            ]
          },
          "metadata": {},
          "execution_count": 6
        }
      ]
    },
    {
      "cell_type": "code",
      "source": [
        "#2. muestra la cantidad de datos faltantes por columna\n",
        "df_dataset.isna().sum()"
      ],
      "metadata": {
        "collapsed": true,
        "colab": {
          "base_uri": "https://localhost:8080/",
          "height": 366
        },
        "id": "X-jkp18XIcrO",
        "outputId": "6d0d6de1-35d3-4b2b-b7bd-97610657163c"
      },
      "execution_count": 7,
      "outputs": [
        {
          "output_type": "execute_result",
          "data": {
            "text/plain": [
              "ID Compra            0\n",
              "Nombre              21\n",
              "Apellido            20\n",
              "Electrodoméstico    21\n",
              "Cantidad            10\n",
              "Valor Unitario       0\n",
              "Valor Total          0\n",
              "Fecha Compra         0\n",
              "Hora Compra          0\n",
              "dtype: int64"
            ],
            "text/html": [
              "<div>\n",
              "<style scoped>\n",
              "    .dataframe tbody tr th:only-of-type {\n",
              "        vertical-align: middle;\n",
              "    }\n",
              "\n",
              "    .dataframe tbody tr th {\n",
              "        vertical-align: top;\n",
              "    }\n",
              "\n",
              "    .dataframe thead th {\n",
              "        text-align: right;\n",
              "    }\n",
              "</style>\n",
              "<table border=\"1\" class=\"dataframe\">\n",
              "  <thead>\n",
              "    <tr style=\"text-align: right;\">\n",
              "      <th></th>\n",
              "      <th>0</th>\n",
              "    </tr>\n",
              "  </thead>\n",
              "  <tbody>\n",
              "    <tr>\n",
              "      <th>ID Compra</th>\n",
              "      <td>0</td>\n",
              "    </tr>\n",
              "    <tr>\n",
              "      <th>Nombre</th>\n",
              "      <td>21</td>\n",
              "    </tr>\n",
              "    <tr>\n",
              "      <th>Apellido</th>\n",
              "      <td>20</td>\n",
              "    </tr>\n",
              "    <tr>\n",
              "      <th>Electrodoméstico</th>\n",
              "      <td>21</td>\n",
              "    </tr>\n",
              "    <tr>\n",
              "      <th>Cantidad</th>\n",
              "      <td>10</td>\n",
              "    </tr>\n",
              "    <tr>\n",
              "      <th>Valor Unitario</th>\n",
              "      <td>0</td>\n",
              "    </tr>\n",
              "    <tr>\n",
              "      <th>Valor Total</th>\n",
              "      <td>0</td>\n",
              "    </tr>\n",
              "    <tr>\n",
              "      <th>Fecha Compra</th>\n",
              "      <td>0</td>\n",
              "    </tr>\n",
              "    <tr>\n",
              "      <th>Hora Compra</th>\n",
              "      <td>0</td>\n",
              "    </tr>\n",
              "  </tbody>\n",
              "</table>\n",
              "</div><br><label><b>dtype:</b> int64</label>"
            ]
          },
          "metadata": {},
          "execution_count": 7
        }
      ]
    },
    {
      "cell_type": "code",
      "source": [
        "#2. Contar valores vacíos (strings vacíos) por columna\n",
        "empty_counts = (df_dataset == '').sum()\n",
        "print(empty_counts)"
      ],
      "metadata": {
        "colab": {
          "base_uri": "https://localhost:8080/"
        },
        "collapsed": true,
        "id": "OiSAWWIEJMZQ",
        "outputId": "28ae1953-1622-46bd-fad8-76ef0c2d42c0"
      },
      "execution_count": 8,
      "outputs": [
        {
          "output_type": "stream",
          "name": "stdout",
          "text": [
            "ID Compra           0\n",
            "Nombre              0\n",
            "Apellido            0\n",
            "Electrodoméstico    0\n",
            "Cantidad            0\n",
            "Valor Unitario      0\n",
            "Valor Total         0\n",
            "Fecha Compra        0\n",
            "Hora Compra         0\n",
            "dtype: int64\n"
          ]
        }
      ]
    },
    {
      "cell_type": "code",
      "source": [
        "#2. contar Valores vacíos (strings vacíos) Total\n",
        "empty_count = (df_dataset == '').sum().sum()\n",
        "print(empty_count)"
      ],
      "metadata": {
        "colab": {
          "base_uri": "https://localhost:8080/"
        },
        "id": "3Bp-hWzWJz2Z",
        "outputId": "cb35dd7f-5e50-49b9-a2b6-40a37b6e6be3"
      },
      "execution_count": 9,
      "outputs": [
        {
          "output_type": "stream",
          "name": "stdout",
          "text": [
            "0\n"
          ]
        }
      ]
    },
    {
      "cell_type": "code",
      "source": [
        "#2. Contar Filas duplicadas (con y sin considerar el ID)\n",
        "duplicates_all = df_dataset.duplicated().sum()\n",
        "print(duplicates_all)"
      ],
      "metadata": {
        "colab": {
          "base_uri": "https://localhost:8080/"
        },
        "id": "HN6tPNPIJ8EQ",
        "outputId": "dc1d1dbb-c12f-4d8d-a7a3-ca7748564181"
      },
      "execution_count": 10,
      "outputs": [
        {
          "output_type": "stream",
          "name": "stdout",
          "text": [
            "0\n"
          ]
        }
      ]
    },
    {
      "cell_type": "code",
      "source": [
        "#2. Contar filas duplicadas ignorando la columna 'ID' si existe\n",
        "if 'ID Compra' in df_dataset.columns:\n",
        "    duplicates_no_id = df_dataset.drop(columns=['ID Compra']).duplicated().sum()\n",
        "else:\n",
        "    duplicates_no_id = \"La columna 'ID Compra' no existe en el dataset.\"\n",
        "\n",
        "# Mostrar resultados\n",
        "\n",
        "print(\"Filas duplicadas (sin considerar 'ID Compra'):\", duplicates_no_id)"
      ],
      "metadata": {
        "colab": {
          "base_uri": "https://localhost:8080/"
        },
        "id": "MI6H4hsEKThd",
        "outputId": "9640cd54-47db-441a-fdad-49491d0a7332"
      },
      "execution_count": 11,
      "outputs": [
        {
          "output_type": "stream",
          "name": "stdout",
          "text": [
            "Filas duplicadas (sin considerar 'ID Compra'): 21\n"
          ]
        }
      ]
    },
    {
      "cell_type": "code",
      "source": [
        "#Tipo de datos\n",
        "df_dataset.info()"
      ],
      "metadata": {
        "colab": {
          "base_uri": "https://localhost:8080/"
        },
        "collapsed": true,
        "id": "qg77qMpQLxjD",
        "outputId": "c933d5af-6208-4fea-df27-c54f32c8c942"
      },
      "execution_count": 12,
      "outputs": [
        {
          "output_type": "stream",
          "name": "stdout",
          "text": [
            "<class 'pandas.core.frame.DataFrame'>\n",
            "RangeIndex: 11275 entries, 0 to 11274\n",
            "Data columns (total 9 columns):\n",
            " #   Column            Non-Null Count  Dtype  \n",
            "---  ------            --------------  -----  \n",
            " 0   ID Compra         11275 non-null  object \n",
            " 1   Nombre            11254 non-null  object \n",
            " 2   Apellido          11255 non-null  object \n",
            " 3   Electrodoméstico  11254 non-null  object \n",
            " 4   Cantidad          11265 non-null  float64\n",
            " 5   Valor Unitario    11275 non-null  int64  \n",
            " 6   Valor Total       11275 non-null  int64  \n",
            " 7   Fecha Compra      11275 non-null  object \n",
            " 8   Hora Compra       11275 non-null  object \n",
            "dtypes: float64(1), int64(2), object(6)\n",
            "memory usage: 792.9+ KB\n"
          ]
        }
      ]
    },
    {
      "cell_type": "code",
      "source": [
        "#3. Verificar formatos inconsistentes en fecha Compra\n",
        "df_dataset['Fecha Compra'] = pd.to_datetime(df_dataset['Fecha Compra'], errors='coerce')\n",
        "print(df_dataset['Fecha Compra'])"
      ],
      "metadata": {
        "colab": {
          "base_uri": "https://localhost:8080/"
        },
        "collapsed": true,
        "id": "XFis_EEGLb0b",
        "outputId": "4c70591c-aa31-47cb-8ebd-aa84c5894eda"
      },
      "execution_count": 13,
      "outputs": [
        {
          "output_type": "stream",
          "name": "stdout",
          "text": [
            "0       2023-07-12\n",
            "1       2023-01-16\n",
            "2       2022-09-21\n",
            "3       2024-05-23\n",
            "4       2022-09-08\n",
            "           ...    \n",
            "11270   2024-04-02\n",
            "11271   2023-08-29\n",
            "11272   2024-03-04\n",
            "11273   2022-05-26\n",
            "11274   2022-12-23\n",
            "Name: Fecha Compra, Length: 11275, dtype: datetime64[ns]\n"
          ]
        }
      ]
    },
    {
      "cell_type": "code",
      "source": [
        "#3. Verificar inconsistencias en \"Fecha Compra\"\n",
        "df_dataset[\"Fecha Compra\"] = pd.to_datetime(df_dataset[\"Fecha Compra\"], errors=\"coerce\")\n",
        "fecha_inconsistente = df_dataset[df_dataset[\"Fecha Compra\"].isna()]\n",
        "print(fecha_inconsistente)"
      ],
      "metadata": {
        "colab": {
          "base_uri": "https://localhost:8080/"
        },
        "collapsed": true,
        "id": "9T9WyQf0NFgV",
        "outputId": "a2ce867b-b83a-4dd5-f25a-0eb715be4e95"
      },
      "execution_count": 14,
      "outputs": [
        {
          "output_type": "stream",
          "name": "stdout",
          "text": [
            "      ID Compra      Nombre  Apellido Electrodoméstico  Cantidad  \\\n",
            "57     CL-00058     Alondra    ALEGRE       Microondas       3.0   \n",
            "146    CL-00147       Nuria  ZORRILLA           Nevera       1.0   \n",
            "227    CL-00228   Fortunata  ESCOLANO       Microondas       2.0   \n",
            "344    CL-00345     Clímaco    GASCÓN           Nevera       2.0   \n",
            "450    CL-00451     Antonio  SANTIAGO       Microondas       5.0   \n",
            "...         ...         ...       ...              ...       ...   \n",
            "10844  CL-10845    Anacleto   MONTA%A       Aspiradora       2.0   \n",
            "10999  CL-11000  Evangelina     MATAS           Nevera       3.0   \n",
            "11040  CL-11041    Fernanda     NU%EZ          Plancha       1.0   \n",
            "11165  CL-11166    Cristina     MORÁN         Lavadora       2.0   \n",
            "11254  CL-11255    Ambrosio      PRAT         Lavadora       5.0   \n",
            "\n",
            "       Valor Unitario  Valor Total Fecha Compra Hora Compra  \n",
            "57             400000      1200000          NaT    01:29:35  \n",
            "146           1800000      1800000          NaT    06:22:49  \n",
            "227            400000       800000          NaT    00:15:07  \n",
            "344           1800000      3600000          NaT    13:52:05  \n",
            "450            400000      2000000          NaT    02:38:19  \n",
            "...               ...          ...          ...         ...  \n",
            "10844          600000      1200000          NaT    09:43:39  \n",
            "10999         1800000      5400000          NaT    09:33:18  \n",
            "11040          150000       150000          NaT    19:53:05  \n",
            "11165         1500000      3000000          NaT    02:24:03  \n",
            "11254         1500000      7500000          NaT    13:57:58  \n",
            "\n",
            "[150 rows x 9 columns]\n"
          ]
        }
      ]
    },
    {
      "cell_type": "code",
      "source": [
        "# Verificar formato de inconsistencias en Nombre y Apellido (mayúsculas y símbolos)\n",
        "# Función para identificar caracteres inválidos en nombres y apellidos\n",
        "def verificar_texto(texto):\n",
        "    if pd.isna(texto):\n",
        "        return \"Valor nulo\"\n",
        "    if re.search(r\"[^A-Za-záéíóúÁÉÍÓÚñÑ ]\", texto):\n",
        "        return \"Caracteres inválidos\"\n",
        "    return \"OK\"\n",
        "\n",
        "print(df_dataset[\"Nombre\"].apply(verificar_texto))\n",
        "print(df_dataset[\"Apellido\"].apply(verificar_texto))"
      ],
      "metadata": {
        "colab": {
          "base_uri": "https://localhost:8080/"
        },
        "collapsed": true,
        "id": "L9NZxZUaQ04T",
        "outputId": "5119c254-ad9e-405d-c2b0-e931b9501ddf"
      },
      "execution_count": 15,
      "outputs": [
        {
          "output_type": "stream",
          "name": "stdout",
          "text": [
            "0                OK\n",
            "1                OK\n",
            "2        Valor nulo\n",
            "3                OK\n",
            "4                OK\n",
            "            ...    \n",
            "11270            OK\n",
            "11271            OK\n",
            "11272            OK\n",
            "11273            OK\n",
            "11274            OK\n",
            "Name: Nombre, Length: 11275, dtype: object\n",
            "0                          OK\n",
            "1                          OK\n",
            "2        Caracteres inválidos\n",
            "3                          OK\n",
            "4                          OK\n",
            "                 ...         \n",
            "11270                      OK\n",
            "11271                      OK\n",
            "11272                      OK\n",
            "11273                      OK\n",
            "11274                      OK\n",
            "Name: Apellido, Length: 11275, dtype: object\n"
          ]
        }
      ]
    },
    {
      "cell_type": "markdown",
      "source": [
        "Transformacion"
      ],
      "metadata": {
        "id": "_xm0z7FlOyqB"
      }
    },
    {
      "cell_type": "code",
      "source": [
        "#1. Función para limpiar nombres y apellidos\n",
        "def limpiar_nombre(nombre):\n",
        "    if pd.isna(nombre):\n",
        "        return None\n",
        "    # Eliminar caracteres no alfabéticos excepto espacios y tildes\n",
        "    nombre = re.sub(r\"[^A-Za-zÁÉÍÓÚáéíóúÑñ ]\", \"\", nombre)\n",
        "    # Convertir a título (primera letra en mayúscula, el resto en minúscula)\n",
        "    return nombre.strip().title()\n",
        "\n",
        "# Aplicar la limpieza\n",
        "df_dataset[\"Nombre\"] = df_dataset[\"Nombre\"].apply(limpiar_nombre)\n",
        "df_dataset[\"Apellido\"] = df_dataset[\"Apellido\"].apply(limpiar_nombre)\n",
        "print(df_dataset)\n",
        "\n",
        "# Guardar el archivo limpio\n",
        "#df_dataset.to_excel(\"Dataset_Clientes_Limpio.xlsx\", index=False)\n",
        "\n",
        "# Descargar el archivo limpio\n",
        "#from google.colab import files\n",
        "#files.download(\"Dataset_Clientes_Limpio.xlsx\")"
      ],
      "metadata": {
        "colab": {
          "base_uri": "https://localhost:8080/"
        },
        "collapsed": true,
        "id": "0fYgwyjxPrER",
        "outputId": "80597d63-6b46-4b89-c105-51e1ef9c10f0"
      },
      "execution_count": 16,
      "outputs": [
        {
          "output_type": "stream",
          "name": "stdout",
          "text": [
            "      ID Compra     Nombre    Apellido Electrodoméstico  Cantidad  \\\n",
            "0      CL-00001     Marcia       Parra           Nevera       5.0   \n",
            "1      CL-00002    Alfonso        Roma          Plancha       1.0   \n",
            "2      CL-00003       None       Dueas  Horno eléctrico       3.0   \n",
            "3      CL-00004    Gonzalo   Sebastián        Licuadora       3.0   \n",
            "4      CL-00005   Ambrosio        Prat         Lavadora       5.0   \n",
            "...         ...        ...         ...              ...       ...   \n",
            "11270  CL-11271    Eusebia     Bárcena       Aspiradora       1.0   \n",
            "11271  CL-11272      Trini       Gallo       Microondas       3.0   \n",
            "11272  CL-11273   Bautista  Villaverde         Lavadora       5.0   \n",
            "11273  CL-11274    Jordana     Cabrera         Cafetera       5.0   \n",
            "11274  CL-11275  Prudencio    Quintero       Ventilador       2.0   \n",
            "\n",
            "       Valor Unitario  Valor Total Fecha Compra Hora Compra  \n",
            "0             1800000      9000000   2023-07-12    03:27:54  \n",
            "1              150000       150000   2023-01-16    04:34:05  \n",
            "2              500000      1500000   2022-09-21    20:18:45  \n",
            "3              250000       750000   2024-05-23    15:39:00  \n",
            "4             1500000      7500000   2022-09-08    13:57:58  \n",
            "...               ...          ...          ...         ...  \n",
            "11270          600000       600000   2024-04-02    21:34:06  \n",
            "11271          400000      1200000   2023-08-29    01:20:59  \n",
            "11272         1500000      7500000   2024-03-04    05:50:19  \n",
            "11273          300000      1500000   2022-05-26    21:24:03  \n",
            "11274          200000       400000   2022-12-23    22:51:24  \n",
            "\n",
            "[11275 rows x 9 columns]\n"
          ]
        }
      ]
    },
    {
      "cell_type": "code",
      "source": [
        "#1. Normalizar fechas\n",
        "df_dataset[\"Fecha Compra\"] = pd.to_datetime(df_dataset[\"Fecha Compra\"])\n",
        "df_dataset[\"Fecha Compra\"] = df_dataset[\"Fecha Compra\"].dt.strftime(\"%Y-%m-%d\")\n",
        "df_dataset"
      ],
      "metadata": {
        "colab": {
          "base_uri": "https://localhost:8080/",
          "height": 423
        },
        "collapsed": true,
        "id": "2xxOu253PbSV",
        "outputId": "6aeba0ad-165b-4d3f-f211-5f3217853b8e"
      },
      "execution_count": 17,
      "outputs": [
        {
          "output_type": "execute_result",
          "data": {
            "text/plain": [
              "      ID Compra     Nombre    Apellido Electrodoméstico  Cantidad  \\\n",
              "0      CL-00001     Marcia       Parra           Nevera       5.0   \n",
              "1      CL-00002    Alfonso        Roma          Plancha       1.0   \n",
              "2      CL-00003       None       Dueas  Horno eléctrico       3.0   \n",
              "3      CL-00004    Gonzalo   Sebastián        Licuadora       3.0   \n",
              "4      CL-00005   Ambrosio        Prat         Lavadora       5.0   \n",
              "...         ...        ...         ...              ...       ...   \n",
              "11270  CL-11271    Eusebia     Bárcena       Aspiradora       1.0   \n",
              "11271  CL-11272      Trini       Gallo       Microondas       3.0   \n",
              "11272  CL-11273   Bautista  Villaverde         Lavadora       5.0   \n",
              "11273  CL-11274    Jordana     Cabrera         Cafetera       5.0   \n",
              "11274  CL-11275  Prudencio    Quintero       Ventilador       2.0   \n",
              "\n",
              "       Valor Unitario  Valor Total Fecha Compra Hora Compra  \n",
              "0             1800000      9000000   2023-07-12    03:27:54  \n",
              "1              150000       150000   2023-01-16    04:34:05  \n",
              "2              500000      1500000   2022-09-21    20:18:45  \n",
              "3              250000       750000   2024-05-23    15:39:00  \n",
              "4             1500000      7500000   2022-09-08    13:57:58  \n",
              "...               ...          ...          ...         ...  \n",
              "11270          600000       600000   2024-04-02    21:34:06  \n",
              "11271          400000      1200000   2023-08-29    01:20:59  \n",
              "11272         1500000      7500000   2024-03-04    05:50:19  \n",
              "11273          300000      1500000   2022-05-26    21:24:03  \n",
              "11274          200000       400000   2022-12-23    22:51:24  \n",
              "\n",
              "[11275 rows x 9 columns]"
            ],
            "text/html": [
              "\n",
              "  <div id=\"df-eb758f29-8618-468e-87e2-d5d4b5555fbd\" class=\"colab-df-container\">\n",
              "    <div>\n",
              "<style scoped>\n",
              "    .dataframe tbody tr th:only-of-type {\n",
              "        vertical-align: middle;\n",
              "    }\n",
              "\n",
              "    .dataframe tbody tr th {\n",
              "        vertical-align: top;\n",
              "    }\n",
              "\n",
              "    .dataframe thead th {\n",
              "        text-align: right;\n",
              "    }\n",
              "</style>\n",
              "<table border=\"1\" class=\"dataframe\">\n",
              "  <thead>\n",
              "    <tr style=\"text-align: right;\">\n",
              "      <th></th>\n",
              "      <th>ID Compra</th>\n",
              "      <th>Nombre</th>\n",
              "      <th>Apellido</th>\n",
              "      <th>Electrodoméstico</th>\n",
              "      <th>Cantidad</th>\n",
              "      <th>Valor Unitario</th>\n",
              "      <th>Valor Total</th>\n",
              "      <th>Fecha Compra</th>\n",
              "      <th>Hora Compra</th>\n",
              "    </tr>\n",
              "  </thead>\n",
              "  <tbody>\n",
              "    <tr>\n",
              "      <th>0</th>\n",
              "      <td>CL-00001</td>\n",
              "      <td>Marcia</td>\n",
              "      <td>Parra</td>\n",
              "      <td>Nevera</td>\n",
              "      <td>5.0</td>\n",
              "      <td>1800000</td>\n",
              "      <td>9000000</td>\n",
              "      <td>2023-07-12</td>\n",
              "      <td>03:27:54</td>\n",
              "    </tr>\n",
              "    <tr>\n",
              "      <th>1</th>\n",
              "      <td>CL-00002</td>\n",
              "      <td>Alfonso</td>\n",
              "      <td>Roma</td>\n",
              "      <td>Plancha</td>\n",
              "      <td>1.0</td>\n",
              "      <td>150000</td>\n",
              "      <td>150000</td>\n",
              "      <td>2023-01-16</td>\n",
              "      <td>04:34:05</td>\n",
              "    </tr>\n",
              "    <tr>\n",
              "      <th>2</th>\n",
              "      <td>CL-00003</td>\n",
              "      <td>None</td>\n",
              "      <td>Dueas</td>\n",
              "      <td>Horno eléctrico</td>\n",
              "      <td>3.0</td>\n",
              "      <td>500000</td>\n",
              "      <td>1500000</td>\n",
              "      <td>2022-09-21</td>\n",
              "      <td>20:18:45</td>\n",
              "    </tr>\n",
              "    <tr>\n",
              "      <th>3</th>\n",
              "      <td>CL-00004</td>\n",
              "      <td>Gonzalo</td>\n",
              "      <td>Sebastián</td>\n",
              "      <td>Licuadora</td>\n",
              "      <td>3.0</td>\n",
              "      <td>250000</td>\n",
              "      <td>750000</td>\n",
              "      <td>2024-05-23</td>\n",
              "      <td>15:39:00</td>\n",
              "    </tr>\n",
              "    <tr>\n",
              "      <th>4</th>\n",
              "      <td>CL-00005</td>\n",
              "      <td>Ambrosio</td>\n",
              "      <td>Prat</td>\n",
              "      <td>Lavadora</td>\n",
              "      <td>5.0</td>\n",
              "      <td>1500000</td>\n",
              "      <td>7500000</td>\n",
              "      <td>2022-09-08</td>\n",
              "      <td>13:57:58</td>\n",
              "    </tr>\n",
              "    <tr>\n",
              "      <th>...</th>\n",
              "      <td>...</td>\n",
              "      <td>...</td>\n",
              "      <td>...</td>\n",
              "      <td>...</td>\n",
              "      <td>...</td>\n",
              "      <td>...</td>\n",
              "      <td>...</td>\n",
              "      <td>...</td>\n",
              "      <td>...</td>\n",
              "    </tr>\n",
              "    <tr>\n",
              "      <th>11270</th>\n",
              "      <td>CL-11271</td>\n",
              "      <td>Eusebia</td>\n",
              "      <td>Bárcena</td>\n",
              "      <td>Aspiradora</td>\n",
              "      <td>1.0</td>\n",
              "      <td>600000</td>\n",
              "      <td>600000</td>\n",
              "      <td>2024-04-02</td>\n",
              "      <td>21:34:06</td>\n",
              "    </tr>\n",
              "    <tr>\n",
              "      <th>11271</th>\n",
              "      <td>CL-11272</td>\n",
              "      <td>Trini</td>\n",
              "      <td>Gallo</td>\n",
              "      <td>Microondas</td>\n",
              "      <td>3.0</td>\n",
              "      <td>400000</td>\n",
              "      <td>1200000</td>\n",
              "      <td>2023-08-29</td>\n",
              "      <td>01:20:59</td>\n",
              "    </tr>\n",
              "    <tr>\n",
              "      <th>11272</th>\n",
              "      <td>CL-11273</td>\n",
              "      <td>Bautista</td>\n",
              "      <td>Villaverde</td>\n",
              "      <td>Lavadora</td>\n",
              "      <td>5.0</td>\n",
              "      <td>1500000</td>\n",
              "      <td>7500000</td>\n",
              "      <td>2024-03-04</td>\n",
              "      <td>05:50:19</td>\n",
              "    </tr>\n",
              "    <tr>\n",
              "      <th>11273</th>\n",
              "      <td>CL-11274</td>\n",
              "      <td>Jordana</td>\n",
              "      <td>Cabrera</td>\n",
              "      <td>Cafetera</td>\n",
              "      <td>5.0</td>\n",
              "      <td>300000</td>\n",
              "      <td>1500000</td>\n",
              "      <td>2022-05-26</td>\n",
              "      <td>21:24:03</td>\n",
              "    </tr>\n",
              "    <tr>\n",
              "      <th>11274</th>\n",
              "      <td>CL-11275</td>\n",
              "      <td>Prudencio</td>\n",
              "      <td>Quintero</td>\n",
              "      <td>Ventilador</td>\n",
              "      <td>2.0</td>\n",
              "      <td>200000</td>\n",
              "      <td>400000</td>\n",
              "      <td>2022-12-23</td>\n",
              "      <td>22:51:24</td>\n",
              "    </tr>\n",
              "  </tbody>\n",
              "</table>\n",
              "<p>11275 rows × 9 columns</p>\n",
              "</div>\n",
              "    <div class=\"colab-df-buttons\">\n",
              "\n",
              "  <div class=\"colab-df-container\">\n",
              "    <button class=\"colab-df-convert\" onclick=\"convertToInteractive('df-eb758f29-8618-468e-87e2-d5d4b5555fbd')\"\n",
              "            title=\"Convert this dataframe to an interactive table.\"\n",
              "            style=\"display:none;\">\n",
              "\n",
              "  <svg xmlns=\"http://www.w3.org/2000/svg\" height=\"24px\" viewBox=\"0 -960 960 960\">\n",
              "    <path d=\"M120-120v-720h720v720H120Zm60-500h600v-160H180v160Zm220 220h160v-160H400v160Zm0 220h160v-160H400v160ZM180-400h160v-160H180v160Zm440 0h160v-160H620v160ZM180-180h160v-160H180v160Zm440 0h160v-160H620v160Z\"/>\n",
              "  </svg>\n",
              "    </button>\n",
              "\n",
              "  <style>\n",
              "    .colab-df-container {\n",
              "      display:flex;\n",
              "      gap: 12px;\n",
              "    }\n",
              "\n",
              "    .colab-df-convert {\n",
              "      background-color: #E8F0FE;\n",
              "      border: none;\n",
              "      border-radius: 50%;\n",
              "      cursor: pointer;\n",
              "      display: none;\n",
              "      fill: #1967D2;\n",
              "      height: 32px;\n",
              "      padding: 0 0 0 0;\n",
              "      width: 32px;\n",
              "    }\n",
              "\n",
              "    .colab-df-convert:hover {\n",
              "      background-color: #E2EBFA;\n",
              "      box-shadow: 0px 1px 2px rgba(60, 64, 67, 0.3), 0px 1px 3px 1px rgba(60, 64, 67, 0.15);\n",
              "      fill: #174EA6;\n",
              "    }\n",
              "\n",
              "    .colab-df-buttons div {\n",
              "      margin-bottom: 4px;\n",
              "    }\n",
              "\n",
              "    [theme=dark] .colab-df-convert {\n",
              "      background-color: #3B4455;\n",
              "      fill: #D2E3FC;\n",
              "    }\n",
              "\n",
              "    [theme=dark] .colab-df-convert:hover {\n",
              "      background-color: #434B5C;\n",
              "      box-shadow: 0px 1px 3px 1px rgba(0, 0, 0, 0.15);\n",
              "      filter: drop-shadow(0px 1px 2px rgba(0, 0, 0, 0.3));\n",
              "      fill: #FFFFFF;\n",
              "    }\n",
              "  </style>\n",
              "\n",
              "    <script>\n",
              "      const buttonEl =\n",
              "        document.querySelector('#df-eb758f29-8618-468e-87e2-d5d4b5555fbd button.colab-df-convert');\n",
              "      buttonEl.style.display =\n",
              "        google.colab.kernel.accessAllowed ? 'block' : 'none';\n",
              "\n",
              "      async function convertToInteractive(key) {\n",
              "        const element = document.querySelector('#df-eb758f29-8618-468e-87e2-d5d4b5555fbd');\n",
              "        const dataTable =\n",
              "          await google.colab.kernel.invokeFunction('convertToInteractive',\n",
              "                                                    [key], {});\n",
              "        if (!dataTable) return;\n",
              "\n",
              "        const docLinkHtml = 'Like what you see? Visit the ' +\n",
              "          '<a target=\"_blank\" href=https://colab.research.google.com/notebooks/data_table.ipynb>data table notebook</a>'\n",
              "          + ' to learn more about interactive tables.';\n",
              "        element.innerHTML = '';\n",
              "        dataTable['output_type'] = 'display_data';\n",
              "        await google.colab.output.renderOutput(dataTable, element);\n",
              "        const docLink = document.createElement('div');\n",
              "        docLink.innerHTML = docLinkHtml;\n",
              "        element.appendChild(docLink);\n",
              "      }\n",
              "    </script>\n",
              "  </div>\n",
              "\n",
              "\n",
              "<div id=\"df-60ac7742-b5a3-4c58-aeae-9e5b27c0f36b\">\n",
              "  <button class=\"colab-df-quickchart\" onclick=\"quickchart('df-60ac7742-b5a3-4c58-aeae-9e5b27c0f36b')\"\n",
              "            title=\"Suggest charts\"\n",
              "            style=\"display:none;\">\n",
              "\n",
              "<svg xmlns=\"http://www.w3.org/2000/svg\" height=\"24px\"viewBox=\"0 0 24 24\"\n",
              "     width=\"24px\">\n",
              "    <g>\n",
              "        <path d=\"M19 3H5c-1.1 0-2 .9-2 2v14c0 1.1.9 2 2 2h14c1.1 0 2-.9 2-2V5c0-1.1-.9-2-2-2zM9 17H7v-7h2v7zm4 0h-2V7h2v10zm4 0h-2v-4h2v4z\"/>\n",
              "    </g>\n",
              "</svg>\n",
              "  </button>\n",
              "\n",
              "<style>\n",
              "  .colab-df-quickchart {\n",
              "      --bg-color: #E8F0FE;\n",
              "      --fill-color: #1967D2;\n",
              "      --hover-bg-color: #E2EBFA;\n",
              "      --hover-fill-color: #174EA6;\n",
              "      --disabled-fill-color: #AAA;\n",
              "      --disabled-bg-color: #DDD;\n",
              "  }\n",
              "\n",
              "  [theme=dark] .colab-df-quickchart {\n",
              "      --bg-color: #3B4455;\n",
              "      --fill-color: #D2E3FC;\n",
              "      --hover-bg-color: #434B5C;\n",
              "      --hover-fill-color: #FFFFFF;\n",
              "      --disabled-bg-color: #3B4455;\n",
              "      --disabled-fill-color: #666;\n",
              "  }\n",
              "\n",
              "  .colab-df-quickchart {\n",
              "    background-color: var(--bg-color);\n",
              "    border: none;\n",
              "    border-radius: 50%;\n",
              "    cursor: pointer;\n",
              "    display: none;\n",
              "    fill: var(--fill-color);\n",
              "    height: 32px;\n",
              "    padding: 0;\n",
              "    width: 32px;\n",
              "  }\n",
              "\n",
              "  .colab-df-quickchart:hover {\n",
              "    background-color: var(--hover-bg-color);\n",
              "    box-shadow: 0 1px 2px rgba(60, 64, 67, 0.3), 0 1px 3px 1px rgba(60, 64, 67, 0.15);\n",
              "    fill: var(--button-hover-fill-color);\n",
              "  }\n",
              "\n",
              "  .colab-df-quickchart-complete:disabled,\n",
              "  .colab-df-quickchart-complete:disabled:hover {\n",
              "    background-color: var(--disabled-bg-color);\n",
              "    fill: var(--disabled-fill-color);\n",
              "    box-shadow: none;\n",
              "  }\n",
              "\n",
              "  .colab-df-spinner {\n",
              "    border: 2px solid var(--fill-color);\n",
              "    border-color: transparent;\n",
              "    border-bottom-color: var(--fill-color);\n",
              "    animation:\n",
              "      spin 1s steps(1) infinite;\n",
              "  }\n",
              "\n",
              "  @keyframes spin {\n",
              "    0% {\n",
              "      border-color: transparent;\n",
              "      border-bottom-color: var(--fill-color);\n",
              "      border-left-color: var(--fill-color);\n",
              "    }\n",
              "    20% {\n",
              "      border-color: transparent;\n",
              "      border-left-color: var(--fill-color);\n",
              "      border-top-color: var(--fill-color);\n",
              "    }\n",
              "    30% {\n",
              "      border-color: transparent;\n",
              "      border-left-color: var(--fill-color);\n",
              "      border-top-color: var(--fill-color);\n",
              "      border-right-color: var(--fill-color);\n",
              "    }\n",
              "    40% {\n",
              "      border-color: transparent;\n",
              "      border-right-color: var(--fill-color);\n",
              "      border-top-color: var(--fill-color);\n",
              "    }\n",
              "    60% {\n",
              "      border-color: transparent;\n",
              "      border-right-color: var(--fill-color);\n",
              "    }\n",
              "    80% {\n",
              "      border-color: transparent;\n",
              "      border-right-color: var(--fill-color);\n",
              "      border-bottom-color: var(--fill-color);\n",
              "    }\n",
              "    90% {\n",
              "      border-color: transparent;\n",
              "      border-bottom-color: var(--fill-color);\n",
              "    }\n",
              "  }\n",
              "</style>\n",
              "\n",
              "  <script>\n",
              "    async function quickchart(key) {\n",
              "      const quickchartButtonEl =\n",
              "        document.querySelector('#' + key + ' button');\n",
              "      quickchartButtonEl.disabled = true;  // To prevent multiple clicks.\n",
              "      quickchartButtonEl.classList.add('colab-df-spinner');\n",
              "      try {\n",
              "        const charts = await google.colab.kernel.invokeFunction(\n",
              "            'suggestCharts', [key], {});\n",
              "      } catch (error) {\n",
              "        console.error('Error during call to suggestCharts:', error);\n",
              "      }\n",
              "      quickchartButtonEl.classList.remove('colab-df-spinner');\n",
              "      quickchartButtonEl.classList.add('colab-df-quickchart-complete');\n",
              "    }\n",
              "    (() => {\n",
              "      let quickchartButtonEl =\n",
              "        document.querySelector('#df-60ac7742-b5a3-4c58-aeae-9e5b27c0f36b button');\n",
              "      quickchartButtonEl.style.display =\n",
              "        google.colab.kernel.accessAllowed ? 'block' : 'none';\n",
              "    })();\n",
              "  </script>\n",
              "</div>\n",
              "\n",
              "  <div id=\"id_080008d4-a73b-43ad-9424-e7443e33cc63\">\n",
              "    <style>\n",
              "      .colab-df-generate {\n",
              "        background-color: #E8F0FE;\n",
              "        border: none;\n",
              "        border-radius: 50%;\n",
              "        cursor: pointer;\n",
              "        display: none;\n",
              "        fill: #1967D2;\n",
              "        height: 32px;\n",
              "        padding: 0 0 0 0;\n",
              "        width: 32px;\n",
              "      }\n",
              "\n",
              "      .colab-df-generate:hover {\n",
              "        background-color: #E2EBFA;\n",
              "        box-shadow: 0px 1px 2px rgba(60, 64, 67, 0.3), 0px 1px 3px 1px rgba(60, 64, 67, 0.15);\n",
              "        fill: #174EA6;\n",
              "      }\n",
              "\n",
              "      [theme=dark] .colab-df-generate {\n",
              "        background-color: #3B4455;\n",
              "        fill: #D2E3FC;\n",
              "      }\n",
              "\n",
              "      [theme=dark] .colab-df-generate:hover {\n",
              "        background-color: #434B5C;\n",
              "        box-shadow: 0px 1px 3px 1px rgba(0, 0, 0, 0.15);\n",
              "        filter: drop-shadow(0px 1px 2px rgba(0, 0, 0, 0.3));\n",
              "        fill: #FFFFFF;\n",
              "      }\n",
              "    </style>\n",
              "    <button class=\"colab-df-generate\" onclick=\"generateWithVariable('df_dataset')\"\n",
              "            title=\"Generate code using this dataframe.\"\n",
              "            style=\"display:none;\">\n",
              "\n",
              "  <svg xmlns=\"http://www.w3.org/2000/svg\" height=\"24px\"viewBox=\"0 0 24 24\"\n",
              "       width=\"24px\">\n",
              "    <path d=\"M7,19H8.4L18.45,9,17,7.55,7,17.6ZM5,21V16.75L18.45,3.32a2,2,0,0,1,2.83,0l1.4,1.43a1.91,1.91,0,0,1,.58,1.4,1.91,1.91,0,0,1-.58,1.4L9.25,21ZM18.45,9,17,7.55Zm-12,3A5.31,5.31,0,0,0,4.9,8.1,5.31,5.31,0,0,0,1,6.5,5.31,5.31,0,0,0,4.9,4.9,5.31,5.31,0,0,0,6.5,1,5.31,5.31,0,0,0,8.1,4.9,5.31,5.31,0,0,0,12,6.5,5.46,5.46,0,0,0,6.5,12Z\"/>\n",
              "  </svg>\n",
              "    </button>\n",
              "    <script>\n",
              "      (() => {\n",
              "      const buttonEl =\n",
              "        document.querySelector('#id_080008d4-a73b-43ad-9424-e7443e33cc63 button.colab-df-generate');\n",
              "      buttonEl.style.display =\n",
              "        google.colab.kernel.accessAllowed ? 'block' : 'none';\n",
              "\n",
              "      buttonEl.onclick = () => {\n",
              "        google.colab.notebook.generateWithVariable('df_dataset');\n",
              "      }\n",
              "      })();\n",
              "    </script>\n",
              "  </div>\n",
              "\n",
              "    </div>\n",
              "  </div>\n"
            ],
            "application/vnd.google.colaboratory.intrinsic+json": {
              "type": "dataframe",
              "variable_name": "df_dataset",
              "summary": "{\n  \"name\": \"df_dataset\",\n  \"rows\": 11275,\n  \"fields\": [\n    {\n      \"column\": \"ID Compra\",\n      \"properties\": {\n        \"dtype\": \"string\",\n        \"num_unique_values\": 11275,\n        \"samples\": [\n          \"CL-03356\",\n          \"CL-00322\",\n          \"CL-04809\"\n        ],\n        \"semantic_type\": \"\",\n        \"description\": \"\"\n      }\n    },\n    {\n      \"column\": \"Nombre\",\n      \"properties\": {\n        \"dtype\": \"category\",\n        \"num_unique_values\": 934,\n        \"samples\": [\n          \"Julieta\",\n          \"Florentina\",\n          \"Marcos\"\n        ],\n        \"semantic_type\": \"\",\n        \"description\": \"\"\n      }\n    },\n    {\n      \"column\": \"Apellido\",\n      \"properties\": {\n        \"dtype\": \"category\",\n        \"num_unique_values\": 1085,\n        \"samples\": [\n          \"Gallo\",\n          \"Zurita\",\n          \"Pareja\"\n        ],\n        \"semantic_type\": \"\",\n        \"description\": \"\"\n      }\n    },\n    {\n      \"column\": \"Electrodom\\u00e9stico\",\n      \"properties\": {\n        \"dtype\": \"category\",\n        \"num_unique_values\": 10,\n        \"samples\": [\n          \"Cafetera\",\n          \"Plancha\",\n          \"Microondas\"\n        ],\n        \"semantic_type\": \"\",\n        \"description\": \"\"\n      }\n    },\n    {\n      \"column\": \"Cantidad\",\n      \"properties\": {\n        \"dtype\": \"number\",\n        \"std\": 1.4144729005106242,\n        \"min\": 1.0,\n        \"max\": 5.0,\n        \"num_unique_values\": 5,\n        \"samples\": [\n          1.0,\n          2.0,\n          3.0\n        ],\n        \"semantic_type\": \"\",\n        \"description\": \"\"\n      }\n    },\n    {\n      \"column\": \"Valor Unitario\",\n      \"properties\": {\n        \"dtype\": \"number\",\n        \"std\": 562770,\n        \"min\": 150000,\n        \"max\": 1800000,\n        \"num_unique_values\": 10,\n        \"samples\": [\n          600000,\n          150000,\n          400000\n        ],\n        \"semantic_type\": \"\",\n        \"description\": \"\"\n      }\n    },\n    {\n      \"column\": \"Valor Total\",\n      \"properties\": {\n        \"dtype\": \"number\",\n        \"std\": 2101432,\n        \"min\": 150000,\n        \"max\": 9000000,\n        \"num_unique_values\": 29,\n        \"samples\": [\n          300000,\n          7200000,\n          6000000\n        ],\n        \"semantic_type\": \"\",\n        \"description\": \"\"\n      }\n    },\n    {\n      \"column\": \"Fecha Compra\",\n      \"properties\": {\n        \"dtype\": \"object\",\n        \"num_unique_values\": 1095,\n        \"samples\": [\n          \"2024-12-17\",\n          \"2024-06-26\",\n          \"2022-12-20\"\n        ],\n        \"semantic_type\": \"\",\n        \"description\": \"\"\n      }\n    },\n    {\n      \"column\": \"Hora Compra\",\n      \"properties\": {\n        \"dtype\": \"object\",\n        \"num_unique_values\": 10545,\n        \"samples\": [\n          \"08:43:48\",\n          \"05:08:33\",\n          \"13:25:59\"\n        ],\n        \"semantic_type\": \"\",\n        \"description\": \"\"\n      }\n    }\n  ]\n}"
            }
          },
          "metadata": {},
          "execution_count": 17
        }
      ]
    },
    {
      "cell_type": "code",
      "source": [
        "#Imputar valores nulos (De forma lógica con base a contexto)\n",
        "\n",
        "# Si el nombre es nulo, usar \"Desconocido\"\n",
        "df_dataset[\"Nombre\"].fillna(\"Desconocido\", inplace=True)\n",
        "\n",
        "# Si el apellido es nulo, usar \"Desconocido\"\n",
        "df_dataset[\"Apellido\"].fillna(\"Desconocido\", inplace=True)\n",
        "\n",
        "# Si la cantidad es nula, asumir que es 1\n",
        "df_dataset[\"Cantidad\"].fillna(1, inplace=True)\n",
        "\n",
        "# Si el valor unitario es nulo, asumir que es el promedio de su categoría\n",
        "df_dataset[\"Valor Unitario\"].fillna(df_dataset.groupby(\"Electrodoméstico\")[\"Valor Unitario\"].transform(\"mean\"), inplace=True)\n",
        "\n",
        "# Si la fecha de compra es nula, imputar con la moda (fecha más frecuente)\n",
        "df_dataset[\"Fecha Compra\"].fillna(df_dataset[\"Fecha Compra\"].mode()[0], inplace=True)\n",
        "\n",
        "print(df_dataset)\n",
        "\n",
        "# Guardar el archivo limpio\n",
        "#df_dataset.to_excel(\"Dataset_Clientes_Limpio.xlsx\", index=False)\n",
        "\n",
        "# Descargar el archivo limpio\n",
        "#from google.colab import files\n",
        "#files.download(\"Dataset_Clientes_Limpio.xlsx\")"
      ],
      "metadata": {
        "colab": {
          "base_uri": "https://localhost:8080/"
        },
        "collapsed": true,
        "id": "K2iOrFK9SPBQ",
        "outputId": "852d1c87-419f-4c46-dc3b-cea71f0cf209"
      },
      "execution_count": 18,
      "outputs": [
        {
          "output_type": "stream",
          "name": "stdout",
          "text": [
            "      ID Compra       Nombre    Apellido Electrodoméstico  Cantidad  \\\n",
            "0      CL-00001       Marcia       Parra           Nevera       5.0   \n",
            "1      CL-00002      Alfonso        Roma          Plancha       1.0   \n",
            "2      CL-00003  Desconocido       Dueas  Horno eléctrico       3.0   \n",
            "3      CL-00004      Gonzalo   Sebastián        Licuadora       3.0   \n",
            "4      CL-00005     Ambrosio        Prat         Lavadora       5.0   \n",
            "...         ...          ...         ...              ...       ...   \n",
            "11270  CL-11271      Eusebia     Bárcena       Aspiradora       1.0   \n",
            "11271  CL-11272        Trini       Gallo       Microondas       3.0   \n",
            "11272  CL-11273     Bautista  Villaverde         Lavadora       5.0   \n",
            "11273  CL-11274      Jordana     Cabrera         Cafetera       5.0   \n",
            "11274  CL-11275    Prudencio    Quintero       Ventilador       2.0   \n",
            "\n",
            "       Valor Unitario  Valor Total Fecha Compra Hora Compra  \n",
            "0             1800000      9000000   2023-07-12    03:27:54  \n",
            "1              150000       150000   2023-01-16    04:34:05  \n",
            "2              500000      1500000   2022-09-21    20:18:45  \n",
            "3              250000       750000   2024-05-23    15:39:00  \n",
            "4             1500000      7500000   2022-09-08    13:57:58  \n",
            "...               ...          ...          ...         ...  \n",
            "11270          600000       600000   2024-04-02    21:34:06  \n",
            "11271          400000      1200000   2023-08-29    01:20:59  \n",
            "11272         1500000      7500000   2024-03-04    05:50:19  \n",
            "11273          300000      1500000   2022-05-26    21:24:03  \n",
            "11274          200000       400000   2022-12-23    22:51:24  \n",
            "\n",
            "[11275 rows x 9 columns]\n"
          ]
        },
        {
          "output_type": "stream",
          "name": "stderr",
          "text": [
            "<ipython-input-18-d0cf5e0dcf00>:4: FutureWarning: A value is trying to be set on a copy of a DataFrame or Series through chained assignment using an inplace method.\n",
            "The behavior will change in pandas 3.0. This inplace method will never work because the intermediate object on which we are setting values always behaves as a copy.\n",
            "\n",
            "For example, when doing 'df[col].method(value, inplace=True)', try using 'df.method({col: value}, inplace=True)' or df[col] = df[col].method(value) instead, to perform the operation inplace on the original object.\n",
            "\n",
            "\n",
            "  df_dataset[\"Nombre\"].fillna(\"Desconocido\", inplace=True)\n",
            "<ipython-input-18-d0cf5e0dcf00>:7: FutureWarning: A value is trying to be set on a copy of a DataFrame or Series through chained assignment using an inplace method.\n",
            "The behavior will change in pandas 3.0. This inplace method will never work because the intermediate object on which we are setting values always behaves as a copy.\n",
            "\n",
            "For example, when doing 'df[col].method(value, inplace=True)', try using 'df.method({col: value}, inplace=True)' or df[col] = df[col].method(value) instead, to perform the operation inplace on the original object.\n",
            "\n",
            "\n",
            "  df_dataset[\"Apellido\"].fillna(\"Desconocido\", inplace=True)\n",
            "<ipython-input-18-d0cf5e0dcf00>:10: FutureWarning: A value is trying to be set on a copy of a DataFrame or Series through chained assignment using an inplace method.\n",
            "The behavior will change in pandas 3.0. This inplace method will never work because the intermediate object on which we are setting values always behaves as a copy.\n",
            "\n",
            "For example, when doing 'df[col].method(value, inplace=True)', try using 'df.method({col: value}, inplace=True)' or df[col] = df[col].method(value) instead, to perform the operation inplace on the original object.\n",
            "\n",
            "\n",
            "  df_dataset[\"Cantidad\"].fillna(1, inplace=True)\n",
            "<ipython-input-18-d0cf5e0dcf00>:13: FutureWarning: A value is trying to be set on a copy of a DataFrame or Series through chained assignment using an inplace method.\n",
            "The behavior will change in pandas 3.0. This inplace method will never work because the intermediate object on which we are setting values always behaves as a copy.\n",
            "\n",
            "For example, when doing 'df[col].method(value, inplace=True)', try using 'df.method({col: value}, inplace=True)' or df[col] = df[col].method(value) instead, to perform the operation inplace on the original object.\n",
            "\n",
            "\n",
            "  df_dataset[\"Valor Unitario\"].fillna(df_dataset.groupby(\"Electrodoméstico\")[\"Valor Unitario\"].transform(\"mean\"), inplace=True)\n",
            "<ipython-input-18-d0cf5e0dcf00>:16: FutureWarning: A value is trying to be set on a copy of a DataFrame or Series through chained assignment using an inplace method.\n",
            "The behavior will change in pandas 3.0. This inplace method will never work because the intermediate object on which we are setting values always behaves as a copy.\n",
            "\n",
            "For example, when doing 'df[col].method(value, inplace=True)', try using 'df.method({col: value}, inplace=True)' or df[col] = df[col].method(value) instead, to perform the operation inplace on the original object.\n",
            "\n",
            "\n",
            "  df_dataset[\"Fecha Compra\"].fillna(df_dataset[\"Fecha Compra\"].mode()[0], inplace=True)\n"
          ]
        }
      ]
    },
    {
      "cell_type": "code",
      "source": [
        "#Eliminar duplicados reales\n",
        "df_dataset.drop_duplicates(inplace=True)\n",
        "print(df_dataset)\n",
        "\n",
        "# Guardar el archivo limpio\n",
        "#df.to_excel(\"Dataset_Clientes_Limpio.xlsx\", index=False)\n",
        "\n",
        "# Descargar el archivo limpio\n",
        "#from google.colab import files\n",
        "#files.download(\"Dataset_Clientes_Limpio.xlsx\")"
      ],
      "metadata": {
        "colab": {
          "base_uri": "https://localhost:8080/"
        },
        "collapsed": true,
        "id": "utOelBchTByC",
        "outputId": "5b6bc295-e615-4863-f0b1-ebb48cda3876"
      },
      "execution_count": 19,
      "outputs": [
        {
          "output_type": "stream",
          "name": "stdout",
          "text": [
            "      ID Compra       Nombre    Apellido Electrodoméstico  Cantidad  \\\n",
            "0      CL-00001       Marcia       Parra           Nevera       5.0   \n",
            "1      CL-00002      Alfonso        Roma          Plancha       1.0   \n",
            "2      CL-00003  Desconocido       Dueas  Horno eléctrico       3.0   \n",
            "3      CL-00004      Gonzalo   Sebastián        Licuadora       3.0   \n",
            "4      CL-00005     Ambrosio        Prat         Lavadora       5.0   \n",
            "...         ...          ...         ...              ...       ...   \n",
            "11270  CL-11271      Eusebia     Bárcena       Aspiradora       1.0   \n",
            "11271  CL-11272        Trini       Gallo       Microondas       3.0   \n",
            "11272  CL-11273     Bautista  Villaverde         Lavadora       5.0   \n",
            "11273  CL-11274      Jordana     Cabrera         Cafetera       5.0   \n",
            "11274  CL-11275    Prudencio    Quintero       Ventilador       2.0   \n",
            "\n",
            "       Valor Unitario  Valor Total Fecha Compra Hora Compra  \n",
            "0             1800000      9000000   2023-07-12    03:27:54  \n",
            "1              150000       150000   2023-01-16    04:34:05  \n",
            "2              500000      1500000   2022-09-21    20:18:45  \n",
            "3              250000       750000   2024-05-23    15:39:00  \n",
            "4             1500000      7500000   2022-09-08    13:57:58  \n",
            "...               ...          ...          ...         ...  \n",
            "11270          600000       600000   2024-04-02    21:34:06  \n",
            "11271          400000      1200000   2023-08-29    01:20:59  \n",
            "11272         1500000      7500000   2024-03-04    05:50:19  \n",
            "11273          300000      1500000   2022-05-26    21:24:03  \n",
            "11274          200000       400000   2022-12-23    22:51:24  \n",
            "\n",
            "[11275 rows x 9 columns]\n"
          ]
        }
      ]
    },
    {
      "cell_type": "code",
      "source": [
        "#Crear nueva columna Año de compra, Mes de compra, Hora de compra (solo hora), Valor medio por unidad (valor total / cantidad)\n",
        "\n",
        "# Lista de columnas requeridas\n",
        "required_columns = [\"Fecha Compra\", \"Hora Compra\"]\n",
        "\n",
        "# Verificar si las columnas existen en el DataFrame\n",
        "missing_columns = [col for col in required_columns if col not in df_dataset.columns]\n",
        "\n",
        "if missing_columns:\n",
        "    print(f\"Error: Faltan las siguientes columnas en el DataFrame: {missing_columns}\")\n",
        "else:\n",
        "    # Convertir a datetime con control de errores\n",
        "    df_dataset[\"Fecha Compra\"] = pd.to_datetime(df_dataset[\"Fecha Compra\"], errors=\"coerce\")\n",
        "    df_dataset[\"Hora Compra\"] = pd.to_datetime(df_dataset[\"Hora Compra\"])\n",
        "\n",
        "    # Crear nuevas columnas\n",
        "    df_dataset[\"Año Compra\"] = df_dataset[\"Fecha Compra\"].dt.year\n",
        "    df_dataset[\"Mes Compra\"] = df_dataset[\"Fecha Compra\"].dt.month\n",
        "    df_dataset[\"Hora Compra\"] = df_dataset[\"Hora Compra\"].dt.hour\n",
        "    df_dataset[\"Valor Medio por Unidad\"] = df_dataset[\"Valor Total\"] / df_dataset[\"Cantidad\"]\n",
        "\n",
        "    print(\"Transformación completada con éxito.\")\n",
        "\n",
        "df_dataset.head()"
      ],
      "metadata": {
        "colab": {
          "base_uri": "https://localhost:8080/",
          "height": 382
        },
        "collapsed": true,
        "id": "t_dbJteiTs5g",
        "outputId": "00b0f849-8395-47f9-946e-5c2a4c3dc48b"
      },
      "execution_count": 20,
      "outputs": [
        {
          "output_type": "stream",
          "name": "stderr",
          "text": [
            "<ipython-input-20-0f4a0f71e2af>:14: UserWarning: Could not infer format, so each element will be parsed individually, falling back to `dateutil`. To ensure parsing is consistent and as-expected, please specify a format.\n",
            "  df_dataset[\"Hora Compra\"] = pd.to_datetime(df_dataset[\"Hora Compra\"])\n"
          ]
        },
        {
          "output_type": "stream",
          "name": "stdout",
          "text": [
            "Transformación completada con éxito.\n"
          ]
        },
        {
          "output_type": "execute_result",
          "data": {
            "text/plain": [
              "  ID Compra       Nombre   Apellido Electrodoméstico  Cantidad  \\\n",
              "0  CL-00001       Marcia      Parra           Nevera       5.0   \n",
              "1  CL-00002      Alfonso       Roma          Plancha       1.0   \n",
              "2  CL-00003  Desconocido      Dueas  Horno eléctrico       3.0   \n",
              "3  CL-00004      Gonzalo  Sebastián        Licuadora       3.0   \n",
              "4  CL-00005     Ambrosio       Prat         Lavadora       5.0   \n",
              "\n",
              "   Valor Unitario  Valor Total Fecha Compra  Hora Compra  Año Compra  \\\n",
              "0         1800000      9000000   2023-07-12            3        2023   \n",
              "1          150000       150000   2023-01-16            4        2023   \n",
              "2          500000      1500000   2022-09-21           20        2022   \n",
              "3          250000       750000   2024-05-23           15        2024   \n",
              "4         1500000      7500000   2022-09-08           13        2022   \n",
              "\n",
              "   Mes Compra  Valor Medio por Unidad  \n",
              "0           7               1800000.0  \n",
              "1           1                150000.0  \n",
              "2           9                500000.0  \n",
              "3           5                250000.0  \n",
              "4           9               1500000.0  "
            ],
            "text/html": [
              "\n",
              "  <div id=\"df-2b8e3558-40dd-4f55-a88d-c50b27504b11\" class=\"colab-df-container\">\n",
              "    <div>\n",
              "<style scoped>\n",
              "    .dataframe tbody tr th:only-of-type {\n",
              "        vertical-align: middle;\n",
              "    }\n",
              "\n",
              "    .dataframe tbody tr th {\n",
              "        vertical-align: top;\n",
              "    }\n",
              "\n",
              "    .dataframe thead th {\n",
              "        text-align: right;\n",
              "    }\n",
              "</style>\n",
              "<table border=\"1\" class=\"dataframe\">\n",
              "  <thead>\n",
              "    <tr style=\"text-align: right;\">\n",
              "      <th></th>\n",
              "      <th>ID Compra</th>\n",
              "      <th>Nombre</th>\n",
              "      <th>Apellido</th>\n",
              "      <th>Electrodoméstico</th>\n",
              "      <th>Cantidad</th>\n",
              "      <th>Valor Unitario</th>\n",
              "      <th>Valor Total</th>\n",
              "      <th>Fecha Compra</th>\n",
              "      <th>Hora Compra</th>\n",
              "      <th>Año Compra</th>\n",
              "      <th>Mes Compra</th>\n",
              "      <th>Valor Medio por Unidad</th>\n",
              "    </tr>\n",
              "  </thead>\n",
              "  <tbody>\n",
              "    <tr>\n",
              "      <th>0</th>\n",
              "      <td>CL-00001</td>\n",
              "      <td>Marcia</td>\n",
              "      <td>Parra</td>\n",
              "      <td>Nevera</td>\n",
              "      <td>5.0</td>\n",
              "      <td>1800000</td>\n",
              "      <td>9000000</td>\n",
              "      <td>2023-07-12</td>\n",
              "      <td>3</td>\n",
              "      <td>2023</td>\n",
              "      <td>7</td>\n",
              "      <td>1800000.0</td>\n",
              "    </tr>\n",
              "    <tr>\n",
              "      <th>1</th>\n",
              "      <td>CL-00002</td>\n",
              "      <td>Alfonso</td>\n",
              "      <td>Roma</td>\n",
              "      <td>Plancha</td>\n",
              "      <td>1.0</td>\n",
              "      <td>150000</td>\n",
              "      <td>150000</td>\n",
              "      <td>2023-01-16</td>\n",
              "      <td>4</td>\n",
              "      <td>2023</td>\n",
              "      <td>1</td>\n",
              "      <td>150000.0</td>\n",
              "    </tr>\n",
              "    <tr>\n",
              "      <th>2</th>\n",
              "      <td>CL-00003</td>\n",
              "      <td>Desconocido</td>\n",
              "      <td>Dueas</td>\n",
              "      <td>Horno eléctrico</td>\n",
              "      <td>3.0</td>\n",
              "      <td>500000</td>\n",
              "      <td>1500000</td>\n",
              "      <td>2022-09-21</td>\n",
              "      <td>20</td>\n",
              "      <td>2022</td>\n",
              "      <td>9</td>\n",
              "      <td>500000.0</td>\n",
              "    </tr>\n",
              "    <tr>\n",
              "      <th>3</th>\n",
              "      <td>CL-00004</td>\n",
              "      <td>Gonzalo</td>\n",
              "      <td>Sebastián</td>\n",
              "      <td>Licuadora</td>\n",
              "      <td>3.0</td>\n",
              "      <td>250000</td>\n",
              "      <td>750000</td>\n",
              "      <td>2024-05-23</td>\n",
              "      <td>15</td>\n",
              "      <td>2024</td>\n",
              "      <td>5</td>\n",
              "      <td>250000.0</td>\n",
              "    </tr>\n",
              "    <tr>\n",
              "      <th>4</th>\n",
              "      <td>CL-00005</td>\n",
              "      <td>Ambrosio</td>\n",
              "      <td>Prat</td>\n",
              "      <td>Lavadora</td>\n",
              "      <td>5.0</td>\n",
              "      <td>1500000</td>\n",
              "      <td>7500000</td>\n",
              "      <td>2022-09-08</td>\n",
              "      <td>13</td>\n",
              "      <td>2022</td>\n",
              "      <td>9</td>\n",
              "      <td>1500000.0</td>\n",
              "    </tr>\n",
              "  </tbody>\n",
              "</table>\n",
              "</div>\n",
              "    <div class=\"colab-df-buttons\">\n",
              "\n",
              "  <div class=\"colab-df-container\">\n",
              "    <button class=\"colab-df-convert\" onclick=\"convertToInteractive('df-2b8e3558-40dd-4f55-a88d-c50b27504b11')\"\n",
              "            title=\"Convert this dataframe to an interactive table.\"\n",
              "            style=\"display:none;\">\n",
              "\n",
              "  <svg xmlns=\"http://www.w3.org/2000/svg\" height=\"24px\" viewBox=\"0 -960 960 960\">\n",
              "    <path d=\"M120-120v-720h720v720H120Zm60-500h600v-160H180v160Zm220 220h160v-160H400v160Zm0 220h160v-160H400v160ZM180-400h160v-160H180v160Zm440 0h160v-160H620v160ZM180-180h160v-160H180v160Zm440 0h160v-160H620v160Z\"/>\n",
              "  </svg>\n",
              "    </button>\n",
              "\n",
              "  <style>\n",
              "    .colab-df-container {\n",
              "      display:flex;\n",
              "      gap: 12px;\n",
              "    }\n",
              "\n",
              "    .colab-df-convert {\n",
              "      background-color: #E8F0FE;\n",
              "      border: none;\n",
              "      border-radius: 50%;\n",
              "      cursor: pointer;\n",
              "      display: none;\n",
              "      fill: #1967D2;\n",
              "      height: 32px;\n",
              "      padding: 0 0 0 0;\n",
              "      width: 32px;\n",
              "    }\n",
              "\n",
              "    .colab-df-convert:hover {\n",
              "      background-color: #E2EBFA;\n",
              "      box-shadow: 0px 1px 2px rgba(60, 64, 67, 0.3), 0px 1px 3px 1px rgba(60, 64, 67, 0.15);\n",
              "      fill: #174EA6;\n",
              "    }\n",
              "\n",
              "    .colab-df-buttons div {\n",
              "      margin-bottom: 4px;\n",
              "    }\n",
              "\n",
              "    [theme=dark] .colab-df-convert {\n",
              "      background-color: #3B4455;\n",
              "      fill: #D2E3FC;\n",
              "    }\n",
              "\n",
              "    [theme=dark] .colab-df-convert:hover {\n",
              "      background-color: #434B5C;\n",
              "      box-shadow: 0px 1px 3px 1px rgba(0, 0, 0, 0.15);\n",
              "      filter: drop-shadow(0px 1px 2px rgba(0, 0, 0, 0.3));\n",
              "      fill: #FFFFFF;\n",
              "    }\n",
              "  </style>\n",
              "\n",
              "    <script>\n",
              "      const buttonEl =\n",
              "        document.querySelector('#df-2b8e3558-40dd-4f55-a88d-c50b27504b11 button.colab-df-convert');\n",
              "      buttonEl.style.display =\n",
              "        google.colab.kernel.accessAllowed ? 'block' : 'none';\n",
              "\n",
              "      async function convertToInteractive(key) {\n",
              "        const element = document.querySelector('#df-2b8e3558-40dd-4f55-a88d-c50b27504b11');\n",
              "        const dataTable =\n",
              "          await google.colab.kernel.invokeFunction('convertToInteractive',\n",
              "                                                    [key], {});\n",
              "        if (!dataTable) return;\n",
              "\n",
              "        const docLinkHtml = 'Like what you see? Visit the ' +\n",
              "          '<a target=\"_blank\" href=https://colab.research.google.com/notebooks/data_table.ipynb>data table notebook</a>'\n",
              "          + ' to learn more about interactive tables.';\n",
              "        element.innerHTML = '';\n",
              "        dataTable['output_type'] = 'display_data';\n",
              "        await google.colab.output.renderOutput(dataTable, element);\n",
              "        const docLink = document.createElement('div');\n",
              "        docLink.innerHTML = docLinkHtml;\n",
              "        element.appendChild(docLink);\n",
              "      }\n",
              "    </script>\n",
              "  </div>\n",
              "\n",
              "\n",
              "<div id=\"df-4b3c5f45-6633-4908-a48f-f8ccf7e3a8f1\">\n",
              "  <button class=\"colab-df-quickchart\" onclick=\"quickchart('df-4b3c5f45-6633-4908-a48f-f8ccf7e3a8f1')\"\n",
              "            title=\"Suggest charts\"\n",
              "            style=\"display:none;\">\n",
              "\n",
              "<svg xmlns=\"http://www.w3.org/2000/svg\" height=\"24px\"viewBox=\"0 0 24 24\"\n",
              "     width=\"24px\">\n",
              "    <g>\n",
              "        <path d=\"M19 3H5c-1.1 0-2 .9-2 2v14c0 1.1.9 2 2 2h14c1.1 0 2-.9 2-2V5c0-1.1-.9-2-2-2zM9 17H7v-7h2v7zm4 0h-2V7h2v10zm4 0h-2v-4h2v4z\"/>\n",
              "    </g>\n",
              "</svg>\n",
              "  </button>\n",
              "\n",
              "<style>\n",
              "  .colab-df-quickchart {\n",
              "      --bg-color: #E8F0FE;\n",
              "      --fill-color: #1967D2;\n",
              "      --hover-bg-color: #E2EBFA;\n",
              "      --hover-fill-color: #174EA6;\n",
              "      --disabled-fill-color: #AAA;\n",
              "      --disabled-bg-color: #DDD;\n",
              "  }\n",
              "\n",
              "  [theme=dark] .colab-df-quickchart {\n",
              "      --bg-color: #3B4455;\n",
              "      --fill-color: #D2E3FC;\n",
              "      --hover-bg-color: #434B5C;\n",
              "      --hover-fill-color: #FFFFFF;\n",
              "      --disabled-bg-color: #3B4455;\n",
              "      --disabled-fill-color: #666;\n",
              "  }\n",
              "\n",
              "  .colab-df-quickchart {\n",
              "    background-color: var(--bg-color);\n",
              "    border: none;\n",
              "    border-radius: 50%;\n",
              "    cursor: pointer;\n",
              "    display: none;\n",
              "    fill: var(--fill-color);\n",
              "    height: 32px;\n",
              "    padding: 0;\n",
              "    width: 32px;\n",
              "  }\n",
              "\n",
              "  .colab-df-quickchart:hover {\n",
              "    background-color: var(--hover-bg-color);\n",
              "    box-shadow: 0 1px 2px rgba(60, 64, 67, 0.3), 0 1px 3px 1px rgba(60, 64, 67, 0.15);\n",
              "    fill: var(--button-hover-fill-color);\n",
              "  }\n",
              "\n",
              "  .colab-df-quickchart-complete:disabled,\n",
              "  .colab-df-quickchart-complete:disabled:hover {\n",
              "    background-color: var(--disabled-bg-color);\n",
              "    fill: var(--disabled-fill-color);\n",
              "    box-shadow: none;\n",
              "  }\n",
              "\n",
              "  .colab-df-spinner {\n",
              "    border: 2px solid var(--fill-color);\n",
              "    border-color: transparent;\n",
              "    border-bottom-color: var(--fill-color);\n",
              "    animation:\n",
              "      spin 1s steps(1) infinite;\n",
              "  }\n",
              "\n",
              "  @keyframes spin {\n",
              "    0% {\n",
              "      border-color: transparent;\n",
              "      border-bottom-color: var(--fill-color);\n",
              "      border-left-color: var(--fill-color);\n",
              "    }\n",
              "    20% {\n",
              "      border-color: transparent;\n",
              "      border-left-color: var(--fill-color);\n",
              "      border-top-color: var(--fill-color);\n",
              "    }\n",
              "    30% {\n",
              "      border-color: transparent;\n",
              "      border-left-color: var(--fill-color);\n",
              "      border-top-color: var(--fill-color);\n",
              "      border-right-color: var(--fill-color);\n",
              "    }\n",
              "    40% {\n",
              "      border-color: transparent;\n",
              "      border-right-color: var(--fill-color);\n",
              "      border-top-color: var(--fill-color);\n",
              "    }\n",
              "    60% {\n",
              "      border-color: transparent;\n",
              "      border-right-color: var(--fill-color);\n",
              "    }\n",
              "    80% {\n",
              "      border-color: transparent;\n",
              "      border-right-color: var(--fill-color);\n",
              "      border-bottom-color: var(--fill-color);\n",
              "    }\n",
              "    90% {\n",
              "      border-color: transparent;\n",
              "      border-bottom-color: var(--fill-color);\n",
              "    }\n",
              "  }\n",
              "</style>\n",
              "\n",
              "  <script>\n",
              "    async function quickchart(key) {\n",
              "      const quickchartButtonEl =\n",
              "        document.querySelector('#' + key + ' button');\n",
              "      quickchartButtonEl.disabled = true;  // To prevent multiple clicks.\n",
              "      quickchartButtonEl.classList.add('colab-df-spinner');\n",
              "      try {\n",
              "        const charts = await google.colab.kernel.invokeFunction(\n",
              "            'suggestCharts', [key], {});\n",
              "      } catch (error) {\n",
              "        console.error('Error during call to suggestCharts:', error);\n",
              "      }\n",
              "      quickchartButtonEl.classList.remove('colab-df-spinner');\n",
              "      quickchartButtonEl.classList.add('colab-df-quickchart-complete');\n",
              "    }\n",
              "    (() => {\n",
              "      let quickchartButtonEl =\n",
              "        document.querySelector('#df-4b3c5f45-6633-4908-a48f-f8ccf7e3a8f1 button');\n",
              "      quickchartButtonEl.style.display =\n",
              "        google.colab.kernel.accessAllowed ? 'block' : 'none';\n",
              "    })();\n",
              "  </script>\n",
              "</div>\n",
              "\n",
              "    </div>\n",
              "  </div>\n"
            ],
            "application/vnd.google.colaboratory.intrinsic+json": {
              "type": "dataframe",
              "variable_name": "df_dataset",
              "summary": "{\n  \"name\": \"df_dataset\",\n  \"rows\": 11275,\n  \"fields\": [\n    {\n      \"column\": \"ID Compra\",\n      \"properties\": {\n        \"dtype\": \"string\",\n        \"num_unique_values\": 11275,\n        \"samples\": [\n          \"CL-03356\",\n          \"CL-00322\",\n          \"CL-04809\"\n        ],\n        \"semantic_type\": \"\",\n        \"description\": \"\"\n      }\n    },\n    {\n      \"column\": \"Nombre\",\n      \"properties\": {\n        \"dtype\": \"category\",\n        \"num_unique_values\": 935,\n        \"samples\": [\n          \"Jos\\u00e9 Antonio\",\n          \"Silvio\",\n          \"Vicenta\"\n        ],\n        \"semantic_type\": \"\",\n        \"description\": \"\"\n      }\n    },\n    {\n      \"column\": \"Apellido\",\n      \"properties\": {\n        \"dtype\": \"category\",\n        \"num_unique_values\": 1086,\n        \"samples\": [\n          \"Escudero\",\n          \"Zurita\",\n          \"Prieto\"\n        ],\n        \"semantic_type\": \"\",\n        \"description\": \"\"\n      }\n    },\n    {\n      \"column\": \"Electrodom\\u00e9stico\",\n      \"properties\": {\n        \"dtype\": \"category\",\n        \"num_unique_values\": 10,\n        \"samples\": [\n          \"Cafetera\",\n          \"Plancha\",\n          \"Microondas\"\n        ],\n        \"semantic_type\": \"\",\n        \"description\": \"\"\n      }\n    },\n    {\n      \"column\": \"Cantidad\",\n      \"properties\": {\n        \"dtype\": \"number\",\n        \"std\": 1.4150729536911413,\n        \"min\": 1.0,\n        \"max\": 5.0,\n        \"num_unique_values\": 5,\n        \"samples\": [\n          1.0,\n          2.0,\n          3.0\n        ],\n        \"semantic_type\": \"\",\n        \"description\": \"\"\n      }\n    },\n    {\n      \"column\": \"Valor Unitario\",\n      \"properties\": {\n        \"dtype\": \"number\",\n        \"std\": 562770,\n        \"min\": 150000,\n        \"max\": 1800000,\n        \"num_unique_values\": 10,\n        \"samples\": [\n          600000,\n          150000,\n          400000\n        ],\n        \"semantic_type\": \"\",\n        \"description\": \"\"\n      }\n    },\n    {\n      \"column\": \"Valor Total\",\n      \"properties\": {\n        \"dtype\": \"number\",\n        \"std\": 2101432,\n        \"min\": 150000,\n        \"max\": 9000000,\n        \"num_unique_values\": 29,\n        \"samples\": [\n          300000,\n          7200000,\n          6000000\n        ],\n        \"semantic_type\": \"\",\n        \"description\": \"\"\n      }\n    },\n    {\n      \"column\": \"Fecha Compra\",\n      \"properties\": {\n        \"dtype\": \"date\",\n        \"min\": \"2022-01-01 00:00:00\",\n        \"max\": \"2024-12-31 00:00:00\",\n        \"num_unique_values\": 1095,\n        \"samples\": [\n          \"2024-06-13 00:00:00\",\n          \"2022-07-22 00:00:00\",\n          \"2022-01-14 00:00:00\"\n        ],\n        \"semantic_type\": \"\",\n        \"description\": \"\"\n      }\n    },\n    {\n      \"column\": \"Hora Compra\",\n      \"properties\": {\n        \"dtype\": \"int32\",\n        \"num_unique_values\": 24,\n        \"samples\": [\n          16,\n          9,\n          3\n        ],\n        \"semantic_type\": \"\",\n        \"description\": \"\"\n      }\n    },\n    {\n      \"column\": \"A\\u00f1o Compra\",\n      \"properties\": {\n        \"dtype\": \"int32\",\n        \"num_unique_values\": 3,\n        \"samples\": [\n          2023,\n          2022,\n          2024\n        ],\n        \"semantic_type\": \"\",\n        \"description\": \"\"\n      }\n    },\n    {\n      \"column\": \"Mes Compra\",\n      \"properties\": {\n        \"dtype\": \"int32\",\n        \"num_unique_values\": 12,\n        \"samples\": [\n          8,\n          12,\n          7\n        ],\n        \"semantic_type\": \"\",\n        \"description\": \"\"\n      }\n    },\n    {\n      \"column\": \"Valor Medio por Unidad\",\n      \"properties\": {\n        \"dtype\": \"number\",\n        \"std\": 565027.6384073484,\n        \"min\": 150000.0,\n        \"max\": 6000000.0,\n        \"num_unique_values\": 16,\n        \"samples\": [\n          1800000.0,\n          150000.0,\n          400000.0\n        ],\n        \"semantic_type\": \"\",\n        \"description\": \"\"\n      }\n    }\n  ]\n}"
            }
          },
          "metadata": {},
          "execution_count": 20
        }
      ]
    },
    {
      "cell_type": "code",
      "source": [
        "#6. Clasificar los electrodomesticos por categoris: cocina, confort, etc\n",
        "# Definir las categorías manualmente\n",
        "categorias = {\n",
        "    \"Nevera\": \"Cocina\",\n",
        "    \"Microondas\": \"Cocina\",\n",
        "    \"Licuadora\": \"Cocina\",\n",
        "    \"Ventilador\": \"Confort\",\n",
        "    \"Lavadora\": \"Limpieza\",\n",
        "    \"Aspiradora\": \"Limpieza\",\n",
        "    \"Televisor\": \"Entretenimiento\",\n",
        "    \"Plancha\":  \"Limpieza\",\n",
        "    \"Horno eléctrico\": \"Cocina\",\n",
        "    \"Cafetera\": \"Cocina\",\n",
        "}\n",
        "\n",
        "# Crear una nueva columna de categoría\n",
        "df_dataset[\"Categoría\"] = df_dataset[\"Electrodoméstico\"].map(categorias)\n",
        "\n",
        "# Ver las primeras filas con la nueva clasificación\n",
        "df_dataset[[\"Electrodoméstico\", \"Categoría\"]].head()\n",
        "\n",
        "#Guardar el archivo limpio\n",
        "#df.to_excel(\"Dataset_Clientes_Limpio.xlsx\", index=False)\n",
        "\n",
        "#Descargar el archivo limpio\n",
        "#from google.colab import files\n",
        "#files.download(\"Dataset_Clientes_Limpio.xlsx\")"
      ],
      "metadata": {
        "colab": {
          "base_uri": "https://localhost:8080/",
          "height": 206
        },
        "collapsed": true,
        "id": "S8gATBlFZ8Ub",
        "outputId": "2c513618-4ea4-4148-d994-ef63e31cf116"
      },
      "execution_count": 21,
      "outputs": [
        {
          "output_type": "execute_result",
          "data": {
            "text/plain": [
              "  Electrodoméstico Categoría\n",
              "0           Nevera    Cocina\n",
              "1          Plancha  Limpieza\n",
              "2  Horno eléctrico    Cocina\n",
              "3        Licuadora    Cocina\n",
              "4         Lavadora  Limpieza"
            ],
            "text/html": [
              "\n",
              "  <div id=\"df-5646180f-06c7-4e00-a3f4-3c3765a0e114\" class=\"colab-df-container\">\n",
              "    <div>\n",
              "<style scoped>\n",
              "    .dataframe tbody tr th:only-of-type {\n",
              "        vertical-align: middle;\n",
              "    }\n",
              "\n",
              "    .dataframe tbody tr th {\n",
              "        vertical-align: top;\n",
              "    }\n",
              "\n",
              "    .dataframe thead th {\n",
              "        text-align: right;\n",
              "    }\n",
              "</style>\n",
              "<table border=\"1\" class=\"dataframe\">\n",
              "  <thead>\n",
              "    <tr style=\"text-align: right;\">\n",
              "      <th></th>\n",
              "      <th>Electrodoméstico</th>\n",
              "      <th>Categoría</th>\n",
              "    </tr>\n",
              "  </thead>\n",
              "  <tbody>\n",
              "    <tr>\n",
              "      <th>0</th>\n",
              "      <td>Nevera</td>\n",
              "      <td>Cocina</td>\n",
              "    </tr>\n",
              "    <tr>\n",
              "      <th>1</th>\n",
              "      <td>Plancha</td>\n",
              "      <td>Limpieza</td>\n",
              "    </tr>\n",
              "    <tr>\n",
              "      <th>2</th>\n",
              "      <td>Horno eléctrico</td>\n",
              "      <td>Cocina</td>\n",
              "    </tr>\n",
              "    <tr>\n",
              "      <th>3</th>\n",
              "      <td>Licuadora</td>\n",
              "      <td>Cocina</td>\n",
              "    </tr>\n",
              "    <tr>\n",
              "      <th>4</th>\n",
              "      <td>Lavadora</td>\n",
              "      <td>Limpieza</td>\n",
              "    </tr>\n",
              "  </tbody>\n",
              "</table>\n",
              "</div>\n",
              "    <div class=\"colab-df-buttons\">\n",
              "\n",
              "  <div class=\"colab-df-container\">\n",
              "    <button class=\"colab-df-convert\" onclick=\"convertToInteractive('df-5646180f-06c7-4e00-a3f4-3c3765a0e114')\"\n",
              "            title=\"Convert this dataframe to an interactive table.\"\n",
              "            style=\"display:none;\">\n",
              "\n",
              "  <svg xmlns=\"http://www.w3.org/2000/svg\" height=\"24px\" viewBox=\"0 -960 960 960\">\n",
              "    <path d=\"M120-120v-720h720v720H120Zm60-500h600v-160H180v160Zm220 220h160v-160H400v160Zm0 220h160v-160H400v160ZM180-400h160v-160H180v160Zm440 0h160v-160H620v160ZM180-180h160v-160H180v160Zm440 0h160v-160H620v160Z\"/>\n",
              "  </svg>\n",
              "    </button>\n",
              "\n",
              "  <style>\n",
              "    .colab-df-container {\n",
              "      display:flex;\n",
              "      gap: 12px;\n",
              "    }\n",
              "\n",
              "    .colab-df-convert {\n",
              "      background-color: #E8F0FE;\n",
              "      border: none;\n",
              "      border-radius: 50%;\n",
              "      cursor: pointer;\n",
              "      display: none;\n",
              "      fill: #1967D2;\n",
              "      height: 32px;\n",
              "      padding: 0 0 0 0;\n",
              "      width: 32px;\n",
              "    }\n",
              "\n",
              "    .colab-df-convert:hover {\n",
              "      background-color: #E2EBFA;\n",
              "      box-shadow: 0px 1px 2px rgba(60, 64, 67, 0.3), 0px 1px 3px 1px rgba(60, 64, 67, 0.15);\n",
              "      fill: #174EA6;\n",
              "    }\n",
              "\n",
              "    .colab-df-buttons div {\n",
              "      margin-bottom: 4px;\n",
              "    }\n",
              "\n",
              "    [theme=dark] .colab-df-convert {\n",
              "      background-color: #3B4455;\n",
              "      fill: #D2E3FC;\n",
              "    }\n",
              "\n",
              "    [theme=dark] .colab-df-convert:hover {\n",
              "      background-color: #434B5C;\n",
              "      box-shadow: 0px 1px 3px 1px rgba(0, 0, 0, 0.15);\n",
              "      filter: drop-shadow(0px 1px 2px rgba(0, 0, 0, 0.3));\n",
              "      fill: #FFFFFF;\n",
              "    }\n",
              "  </style>\n",
              "\n",
              "    <script>\n",
              "      const buttonEl =\n",
              "        document.querySelector('#df-5646180f-06c7-4e00-a3f4-3c3765a0e114 button.colab-df-convert');\n",
              "      buttonEl.style.display =\n",
              "        google.colab.kernel.accessAllowed ? 'block' : 'none';\n",
              "\n",
              "      async function convertToInteractive(key) {\n",
              "        const element = document.querySelector('#df-5646180f-06c7-4e00-a3f4-3c3765a0e114');\n",
              "        const dataTable =\n",
              "          await google.colab.kernel.invokeFunction('convertToInteractive',\n",
              "                                                    [key], {});\n",
              "        if (!dataTable) return;\n",
              "\n",
              "        const docLinkHtml = 'Like what you see? Visit the ' +\n",
              "          '<a target=\"_blank\" href=https://colab.research.google.com/notebooks/data_table.ipynb>data table notebook</a>'\n",
              "          + ' to learn more about interactive tables.';\n",
              "        element.innerHTML = '';\n",
              "        dataTable['output_type'] = 'display_data';\n",
              "        await google.colab.output.renderOutput(dataTable, element);\n",
              "        const docLink = document.createElement('div');\n",
              "        docLink.innerHTML = docLinkHtml;\n",
              "        element.appendChild(docLink);\n",
              "      }\n",
              "    </script>\n",
              "  </div>\n",
              "\n",
              "\n",
              "<div id=\"df-7a013996-fb5f-44bb-8c6a-d15a5105cdef\">\n",
              "  <button class=\"colab-df-quickchart\" onclick=\"quickchart('df-7a013996-fb5f-44bb-8c6a-d15a5105cdef')\"\n",
              "            title=\"Suggest charts\"\n",
              "            style=\"display:none;\">\n",
              "\n",
              "<svg xmlns=\"http://www.w3.org/2000/svg\" height=\"24px\"viewBox=\"0 0 24 24\"\n",
              "     width=\"24px\">\n",
              "    <g>\n",
              "        <path d=\"M19 3H5c-1.1 0-2 .9-2 2v14c0 1.1.9 2 2 2h14c1.1 0 2-.9 2-2V5c0-1.1-.9-2-2-2zM9 17H7v-7h2v7zm4 0h-2V7h2v10zm4 0h-2v-4h2v4z\"/>\n",
              "    </g>\n",
              "</svg>\n",
              "  </button>\n",
              "\n",
              "<style>\n",
              "  .colab-df-quickchart {\n",
              "      --bg-color: #E8F0FE;\n",
              "      --fill-color: #1967D2;\n",
              "      --hover-bg-color: #E2EBFA;\n",
              "      --hover-fill-color: #174EA6;\n",
              "      --disabled-fill-color: #AAA;\n",
              "      --disabled-bg-color: #DDD;\n",
              "  }\n",
              "\n",
              "  [theme=dark] .colab-df-quickchart {\n",
              "      --bg-color: #3B4455;\n",
              "      --fill-color: #D2E3FC;\n",
              "      --hover-bg-color: #434B5C;\n",
              "      --hover-fill-color: #FFFFFF;\n",
              "      --disabled-bg-color: #3B4455;\n",
              "      --disabled-fill-color: #666;\n",
              "  }\n",
              "\n",
              "  .colab-df-quickchart {\n",
              "    background-color: var(--bg-color);\n",
              "    border: none;\n",
              "    border-radius: 50%;\n",
              "    cursor: pointer;\n",
              "    display: none;\n",
              "    fill: var(--fill-color);\n",
              "    height: 32px;\n",
              "    padding: 0;\n",
              "    width: 32px;\n",
              "  }\n",
              "\n",
              "  .colab-df-quickchart:hover {\n",
              "    background-color: var(--hover-bg-color);\n",
              "    box-shadow: 0 1px 2px rgba(60, 64, 67, 0.3), 0 1px 3px 1px rgba(60, 64, 67, 0.15);\n",
              "    fill: var(--button-hover-fill-color);\n",
              "  }\n",
              "\n",
              "  .colab-df-quickchart-complete:disabled,\n",
              "  .colab-df-quickchart-complete:disabled:hover {\n",
              "    background-color: var(--disabled-bg-color);\n",
              "    fill: var(--disabled-fill-color);\n",
              "    box-shadow: none;\n",
              "  }\n",
              "\n",
              "  .colab-df-spinner {\n",
              "    border: 2px solid var(--fill-color);\n",
              "    border-color: transparent;\n",
              "    border-bottom-color: var(--fill-color);\n",
              "    animation:\n",
              "      spin 1s steps(1) infinite;\n",
              "  }\n",
              "\n",
              "  @keyframes spin {\n",
              "    0% {\n",
              "      border-color: transparent;\n",
              "      border-bottom-color: var(--fill-color);\n",
              "      border-left-color: var(--fill-color);\n",
              "    }\n",
              "    20% {\n",
              "      border-color: transparent;\n",
              "      border-left-color: var(--fill-color);\n",
              "      border-top-color: var(--fill-color);\n",
              "    }\n",
              "    30% {\n",
              "      border-color: transparent;\n",
              "      border-left-color: var(--fill-color);\n",
              "      border-top-color: var(--fill-color);\n",
              "      border-right-color: var(--fill-color);\n",
              "    }\n",
              "    40% {\n",
              "      border-color: transparent;\n",
              "      border-right-color: var(--fill-color);\n",
              "      border-top-color: var(--fill-color);\n",
              "    }\n",
              "    60% {\n",
              "      border-color: transparent;\n",
              "      border-right-color: var(--fill-color);\n",
              "    }\n",
              "    80% {\n",
              "      border-color: transparent;\n",
              "      border-right-color: var(--fill-color);\n",
              "      border-bottom-color: var(--fill-color);\n",
              "    }\n",
              "    90% {\n",
              "      border-color: transparent;\n",
              "      border-bottom-color: var(--fill-color);\n",
              "    }\n",
              "  }\n",
              "</style>\n",
              "\n",
              "  <script>\n",
              "    async function quickchart(key) {\n",
              "      const quickchartButtonEl =\n",
              "        document.querySelector('#' + key + ' button');\n",
              "      quickchartButtonEl.disabled = true;  // To prevent multiple clicks.\n",
              "      quickchartButtonEl.classList.add('colab-df-spinner');\n",
              "      try {\n",
              "        const charts = await google.colab.kernel.invokeFunction(\n",
              "            'suggestCharts', [key], {});\n",
              "      } catch (error) {\n",
              "        console.error('Error during call to suggestCharts:', error);\n",
              "      }\n",
              "      quickchartButtonEl.classList.remove('colab-df-spinner');\n",
              "      quickchartButtonEl.classList.add('colab-df-quickchart-complete');\n",
              "    }\n",
              "    (() => {\n",
              "      let quickchartButtonEl =\n",
              "        document.querySelector('#df-7a013996-fb5f-44bb-8c6a-d15a5105cdef button');\n",
              "      quickchartButtonEl.style.display =\n",
              "        google.colab.kernel.accessAllowed ? 'block' : 'none';\n",
              "    })();\n",
              "  </script>\n",
              "</div>\n",
              "\n",
              "    </div>\n",
              "  </div>\n"
            ],
            "application/vnd.google.colaboratory.intrinsic+json": {
              "type": "dataframe",
              "summary": "{\n  \"name\": \"#files\",\n  \"rows\": 5,\n  \"fields\": [\n    {\n      \"column\": \"Electrodom\\u00e9stico\",\n      \"properties\": {\n        \"dtype\": \"string\",\n        \"num_unique_values\": 5,\n        \"samples\": [\n          \"Plancha\",\n          \"Lavadora\",\n          \"Horno el\\u00e9ctrico\"\n        ],\n        \"semantic_type\": \"\",\n        \"description\": \"\"\n      }\n    },\n    {\n      \"column\": \"Categor\\u00eda\",\n      \"properties\": {\n        \"dtype\": \"category\",\n        \"num_unique_values\": 2,\n        \"samples\": [\n          \"Limpieza\",\n          \"Cocina\"\n        ],\n        \"semantic_type\": \"\",\n        \"description\": \"\"\n      }\n    }\n  ]\n}"
            }
          },
          "metadata": {},
          "execution_count": 21
        }
      ]
    },
    {
      "cell_type": "markdown",
      "source": [
        "Encontrar hallazgos con Pandas\n",
        "\n",
        "Responde las siguientes 20 preguntas analíticas usando el dataset transformado:\n"
      ],
      "metadata": {
        "id": "1nJN4vzsdv8Q"
      }
    },
    {
      "cell_type": "code",
      "source": [
        "#1. ¿Cuál es el electrodoméstico más vendido por cantidad?:\n",
        "\n",
        "# Verificar los nombres de las columnas\n",
        "print(df_dataset.columns)\n",
        "\n",
        "# Agrupar por el tipo de electrodoméstico y sumar la cantidad vendida\n",
        "electrodomestico_mas_vendido = df_dataset.groupby(\"Electrodoméstico\")[\"Cantidad\"].sum()\n",
        "\n",
        "# Encontrar el electrodoméstico con la mayor cantidad vendida\n",
        "electrodomestico_top = electrodomestico_mas_vendido.idxmax()\n",
        "cantidad_top = electrodomestico_mas_vendido.max()\n",
        "\n",
        "print(f\"El electrodoméstico más vendido es: {electrodomestico_top} con {cantidad_top} unidades.\")"
      ],
      "metadata": {
        "colab": {
          "base_uri": "https://localhost:8080/"
        },
        "collapsed": true,
        "id": "wKrmFFq_eCCT",
        "outputId": "376663ce-ee0e-4b57-e22a-b0c8e349792c"
      },
      "execution_count": 22,
      "outputs": [
        {
          "output_type": "stream",
          "name": "stdout",
          "text": [
            "Index(['ID Compra', 'Nombre', 'Apellido', 'Electrodoméstico', 'Cantidad',\n",
            "       'Valor Unitario', 'Valor Total', 'Fecha Compra', 'Hora Compra',\n",
            "       'Año Compra', 'Mes Compra', 'Valor Medio por Unidad', 'Categoría'],\n",
            "      dtype='object')\n",
            "El electrodoméstico más vendido es: Plancha con 3517.0 unidades.\n"
          ]
        }
      ]
    },
    {
      "cell_type": "code",
      "source": [
        "#2. ¿Cuál generó más ingresos (Valor Total)?\n",
        "\n",
        "ingresos_por_electrodomestico = df_dataset.groupby(\"Electrodoméstico\")[\"Valor Total\"].sum()\n",
        "\n",
        "# Encontrar el electrodoméstico con mayores ingresos\n",
        "electrodomestico_top_ingresos = ingresos_por_electrodomestico.idxmax()\n",
        "ingresos_maximos = ingresos_por_electrodomestico.max()\n",
        "\n",
        "print(f\"El electrodoméstico que generó más ingresos es: {electrodomestico_top_ingresos} con un total de ${ingresos_maximos:,.2f}.\")"
      ],
      "metadata": {
        "colab": {
          "base_uri": "https://localhost:8080/"
        },
        "id": "MHi2UJMreO1K",
        "outputId": "837e5e85-a929-4b22-e22c-00e0235fda3f"
      },
      "execution_count": 23,
      "outputs": [
        {
          "output_type": "stream",
          "name": "stdout",
          "text": [
            "El electrodoméstico que generó más ingresos es: Nevera con un total de $6,121,800,000.00.\n"
          ]
        }
      ]
    },
    {
      "cell_type": "code",
      "source": [
        "#3. ¿Cuál es el ticket promedio por compra?\n",
        "\n",
        "ticket_promedio = df_dataset[\"Valor Total\"].sum() / df_dataset.shape[0]\n",
        "\n",
        "print(f\"El ticket promedio por compra es: ${ticket_promedio:,.2f}\")"
      ],
      "metadata": {
        "colab": {
          "base_uri": "https://localhost:8080/"
        },
        "id": "Gpl9We0meYU6",
        "outputId": "dd288c09-e81d-44c7-a17c-6ddd312b5a5f"
      },
      "execution_count": 24,
      "outputs": [
        {
          "output_type": "stream",
          "name": "stdout",
          "text": [
            "El ticket promedio por compra es: $2,050,842.57\n"
          ]
        }
      ]
    },
    {
      "cell_type": "code",
      "source": [
        "#4. ¿Cuántas compras se realizaron por año?\n",
        "\n",
        "compras_por_anio = df_dataset.groupby(\"Año Compra\").size()\n",
        "\n",
        "# Mostrar los resultados\n",
        "print(\"Cantidad de compras por año:\")\n",
        "print(compras_por_anio)"
      ],
      "metadata": {
        "colab": {
          "base_uri": "https://localhost:8080/"
        },
        "collapsed": true,
        "id": "uAkFUMV0ehuq",
        "outputId": "465652c1-f5a0-4eb9-a06e-fc4604237787"
      },
      "execution_count": 25,
      "outputs": [
        {
          "output_type": "stream",
          "name": "stdout",
          "text": [
            "Cantidad de compras por año:\n",
            "Año Compra\n",
            "2022    3847\n",
            "2023    3691\n",
            "2024    3737\n",
            "dtype: int64\n"
          ]
        }
      ]
    },
    {
      "cell_type": "code",
      "source": [
        "# 5. ¿uántas compras se realizaron mes?\n",
        "compras_por_mes = df_dataset.groupby(\"Mes Compra\").size()\n",
        "\n",
        "# Mostrar los resultados\n",
        "print(\"Cantidad de compras por mes:\")\n",
        "print(compras_por_mes)\n"
      ],
      "metadata": {
        "colab": {
          "base_uri": "https://localhost:8080/"
        },
        "collapsed": true,
        "id": "4az9Zy8RezFA",
        "outputId": "4f786d6c-37f0-4eb8-e1d2-f30eb6229a0f"
      },
      "execution_count": 26,
      "outputs": [
        {
          "output_type": "stream",
          "name": "stdout",
          "text": [
            "Cantidad de compras por mes:\n",
            "Mes Compra\n",
            "1      993\n",
            "2      837\n",
            "3      898\n",
            "4      887\n",
            "5      930\n",
            "6      913\n",
            "7      927\n",
            "8     1016\n",
            "9      902\n",
            "10    1087\n",
            "11     959\n",
            "12     926\n",
            "dtype: int64\n"
          ]
        }
      ]
    },
    {
      "cell_type": "code",
      "source": [
        "#6. ¿Cuál es la hora del día con más compras?\n",
        "\n",
        "compras_por_hora = df_dataset.groupby(\"Hora Compra\").size()\n",
        "\n",
        "# Encontrar la hora con más compras\n",
        "hora_max_compras = compras_por_hora.idxmax()\n",
        "cantidad_max_compras = compras_por_hora.max()\n",
        "\n",
        "print(f\"La hora del día con más compras es: {hora_max_compras} con {cantidad_max_compras} compras.\")\n"
      ],
      "metadata": {
        "colab": {
          "base_uri": "https://localhost:8080/"
        },
        "id": "TsxMb-MifIyO",
        "outputId": "f43571fc-42b7-4604-f82c-90fab77bd4dc"
      },
      "execution_count": 27,
      "outputs": [
        {
          "output_type": "stream",
          "name": "stdout",
          "text": [
            "La hora del día con más compras es: 12 con 511 compras.\n"
          ]
        }
      ]
    },
    {
      "cell_type": "code",
      "source": [
        "#7. ¿Qué cliente compró más unidades?\n",
        "unidades_por_cliente = df_dataset.groupby([\"Nombre\", \"Apellido\"])[\"Cantidad\"].sum()\n",
        "\n",
        "# Encontrar el cliente con más unidades\n",
        "cliente_top_unidades = unidades_por_cliente.idxmax()\n",
        "unidades_maximas = unidades_por_cliente.max()\n",
        "\n",
        "print(f\"El cliente que compró más unidades es: {cliente_top_unidades[0]} {cliente_top_unidades[1]} con {unidades_maximas} unidades.\")"
      ],
      "metadata": {
        "colab": {
          "base_uri": "https://localhost:8080/"
        },
        "id": "844mNUMLfkWT",
        "outputId": "7b34ff54-061a-4eb7-ad7d-69de667cbc12"
      },
      "execution_count": 28,
      "outputs": [
        {
          "output_type": "stream",
          "name": "stdout",
          "text": [
            "El cliente que compró más unidades es: Desconocido Desconocido con 46.0 unidades.\n"
          ]
        }
      ]
    },
    {
      "cell_type": "code",
      "source": [
        "#8. ¿Cuántas compras tienen un valor total mayor a $5.000.000?\n",
        "\n",
        "compras_mayores_5m = (df_dataset[\"Valor Total\"] > 5000000).sum()\n",
        "print(f\"Número de compras con valor total mayor a $5.000.000: {compras_mayores_5m}\")"
      ],
      "metadata": {
        "colab": {
          "base_uri": "https://localhost:8080/"
        },
        "id": "2jsVlylotzQo",
        "outputId": "1d072f46-6362-4f28-df5f-5ef2791fd9ab"
      },
      "execution_count": 29,
      "outputs": [
        {
          "output_type": "stream",
          "name": "stdout",
          "text": [
            "Número de compras con valor total mayor a $5.000.000: 1328\n"
          ]
        }
      ]
    },
    {
      "cell_type": "code",
      "source": [
        "#9. ¿Cuál es la media y mediana del Valor Unitario?\n",
        "\n",
        "media_valor_unitario = df_dataset[\"Valor Unitario\"].mean()\n",
        "mediana_valor_unitario = df_dataset[\"Valor Unitario\"].median()\n",
        "\n",
        "print(f\"Media del Valor Unitario: ${media_valor_unitario:,.2f}\")\n",
        "print(f\"Mediana del Valor Unitario: ${mediana_valor_unitario:,.2f}\")"
      ],
      "metadata": {
        "colab": {
          "base_uri": "https://localhost:8080/"
        },
        "id": "ieAzFkGHuAgw",
        "outputId": "e8b1a747-7569-4ecf-eb27-ef08f233dcc8"
      },
      "execution_count": 30,
      "outputs": [
        {
          "output_type": "stream",
          "name": "stdout",
          "text": [
            "Media del Valor Unitario: $687,614.19\n",
            "Mediana del Valor Unitario: $400,000.00\n"
          ]
        }
      ]
    },
    {
      "cell_type": "code",
      "source": [
        "#10.  ¿Cuántas compras no tienen registrado el nombre del cliente?\n",
        "\n",
        "compras_sin_cliente = df_dataset[\"Nombre\"].isna().sum()\n",
        "print(f\"Número de compras sin nombre de cliente: {compras_sin_cliente}\")\n"
      ],
      "metadata": {
        "colab": {
          "base_uri": "https://localhost:8080/"
        },
        "id": "dhNTyIeWuHi1",
        "outputId": "0dc2b0ca-4951-4d74-bfc5-90a98e8e0a53"
      },
      "execution_count": 31,
      "outputs": [
        {
          "output_type": "stream",
          "name": "stdout",
          "text": [
            "Número de compras sin nombre de cliente: 0\n"
          ]
        }
      ]
    },
    {
      "cell_type": "code",
      "source": [
        "#11. ¿Cuál es el producto mas comun entre las compras duplicadas?\n",
        "comunes = df_dataset[\"Electrodoméstico\"].value_counts()\n",
        "print(comunes)\n"
      ],
      "metadata": {
        "colab": {
          "base_uri": "https://localhost:8080/"
        },
        "collapsed": true,
        "id": "yeWqUrSUuqNG",
        "outputId": "889382cb-70ff-4285-864f-cdef0069064b"
      },
      "execution_count": 32,
      "outputs": [
        {
          "output_type": "stream",
          "name": "stdout",
          "text": [
            "Electrodoméstico\n",
            "Plancha            1170\n",
            "Microondas         1156\n",
            "Licuadora          1153\n",
            "Nevera             1135\n",
            "Lavadora           1132\n",
            "Aspiradora         1123\n",
            "Cafetera           1120\n",
            "Ventilador         1093\n",
            "Televisor          1087\n",
            "Horno eléctrico    1085\n",
            "Name: count, dtype: int64\n"
          ]
        }
      ]
    },
    {
      "cell_type": "code",
      "source": [
        "#12.  ¿Hay alguna relación entre la cantidad comprada y el valor total?\n",
        "\n",
        "correlacion = df_dataset[\"Cantidad\"].corr(df_dataset[\"Valor Total\"])\n",
        "print(f\"Correlación entre Cantidad y Valor Total: {correlacion}\")"
      ],
      "metadata": {
        "colab": {
          "base_uri": "https://localhost:8080/"
        },
        "id": "-jsSTfn7vSeh",
        "outputId": "ed1c5715-a4a4-44d9-a9f7-85db34e7be0a"
      },
      "execution_count": 33,
      "outputs": [
        {
          "output_type": "stream",
          "name": "stdout",
          "text": [
            "Correlación entre Cantidad y Valor Total: 0.4649823184753061\n"
          ]
        }
      ]
    },
    {
      "cell_type": "code",
      "source": [
        "#13.  ¿Cuántas categorías de electrodomésticos hay?\n",
        "\n",
        "num_categorias = df_dataset[\"Categoría\"].nunique()\n",
        "print(f\"Número de categorías de electrodomésticos: {num_categorias}\")"
      ],
      "metadata": {
        "colab": {
          "base_uri": "https://localhost:8080/"
        },
        "id": "qdjOrsVAv_vf",
        "outputId": "af51de06-cd5c-411b-f840-17a6cb687658"
      },
      "execution_count": 34,
      "outputs": [
        {
          "output_type": "stream",
          "name": "stdout",
          "text": [
            "Número de categorías de electrodomésticos: 4\n"
          ]
        }
      ]
    },
    {
      "cell_type": "code",
      "source": [
        "#14. ¿Qué categoría vende más?\n",
        "\n",
        "categoria_mas_vendida = df_dataset.groupby(\"Categoría\")[\"Cantidad\"].sum().idxmax()\n",
        "print(f\"La categoría con más ventas es: {categoria_mas_vendida}\")"
      ],
      "metadata": {
        "colab": {
          "base_uri": "https://localhost:8080/"
        },
        "id": "d146TQgewLPn",
        "outputId": "468cbe15-04c8-467b-9dbb-f2390bc17149"
      },
      "execution_count": 35,
      "outputs": [
        {
          "output_type": "stream",
          "name": "stdout",
          "text": [
            "La categoría con más ventas es: Cocina\n"
          ]
        }
      ]
    },
    {
      "cell_type": "code",
      "source": [
        "#15.  ¿Hay estacionalidad en las compras? ¿En qué meses se compra más?\n",
        "\n",
        "compras_por_mes = df_dataset.groupby(\"Mes Compra\").size()\n",
        "compras_por_mes.plot(kind=\"bar\", color=\"skyblue\", edgecolor=\"black\")\n",
        "\n",
        "plt.xlabel(\"Mes\")\n",
        "plt.ylabel(\"Número de compras\")\n",
        "plt.title(\"Cantidad de compras por mes\")\n",
        "plt.xticks(rotation=0)\n",
        "plt.show()\n",
        "\n"
      ],
      "metadata": {
        "colab": {
          "base_uri": "https://localhost:8080/",
          "height": 472
        },
        "collapsed": true,
        "id": "u4j-OC05wSpY",
        "outputId": "4289a51e-034f-47ff-ffc4-3e6b05b63620"
      },
      "execution_count": 36,
      "outputs": [
        {
          "output_type": "display_data",
          "data": {
            "text/plain": [
              "<Figure size 640x480 with 1 Axes>"
            ],
            "image/png": "[encoded data removed]"
          },
          "metadata": {}
        }
      ]
    },
    {
      "cell_type": "code",
      "source": [
        "#16.  ¿Cuál es la proporción entre compras de lavadoras y neveras?\n",
        "\n",
        "lavadoras = df_dataset[df_dataset[\"Electrodoméstico\"] == \"Lavadora\"].shape[0]\n",
        "neveras = df_dataset[df_dataset[\"Electrodoméstico\"] == \"Nevera\"].shape[0]\n",
        "\n",
        "proporcion = lavadoras / neveras if neveras > 0 else 0\n",
        "print(f\"Proporción de compras de lavadoras a neveras: {proporcion:.2f}\")"
      ],
      "metadata": {
        "colab": {
          "base_uri": "https://localhost:8080/"
        },
        "id": "ZG_LwBiKxEI_",
        "outputId": "3a1cbd52-4a11-4eb0-bb3b-104e8ada4922"
      },
      "execution_count": null,
      "outputs": [
        {
          "output_type": "stream",
          "name": "stdout",
          "text": [
            "Proporción de compras de lavadoras a neveras: 1.00\n"
          ]
        }
      ]
    },
    {
      "cell_type": "code",
      "source": [
        "#17.  ¿Cuántas compras hay de productos de cocina vs. climatización?\n",
        "\n",
        "compras_cocina = df_dataset[df_dataset[\"Categoría\"] == \"Cocina\"].shape[0]\n",
        "compras_clima = df_dataset[df_dataset[\"Categoría\"] == \"Confort\"].shape[0]\n",
        "\n",
        "print(f\"Compras de productos de cocina: {compras_cocina}\")\n",
        "print(f\"Compras de productos de climatización: {compras_clima}\")"
      ],
      "metadata": {
        "colab": {
          "base_uri": "https://localhost:8080/"
        },
        "id": "gqZVMxKexMX3",
        "outputId": "c8539958-4c47-4f59-f780-6ff2d3b6693e"
      },
      "execution_count": 37,
      "outputs": [
        {
          "output_type": "stream",
          "name": "stdout",
          "text": [
            "Compras de productos de cocina: 5649\n",
            "Compras de productos de climatización: 1093\n"
          ]
        }
      ]
    },
    {
      "cell_type": "code",
      "source": [
        "#18.  ¿Cuántos productos se vendieron en total?\n",
        "\n",
        "total_productos_vendidos = df_dataset[\"Cantidad\"].sum()\n",
        "print(f\"Total de productos vendidos: {total_productos_vendidos}\")"
      ],
      "metadata": {
        "colab": {
          "base_uri": "https://localhost:8080/"
        },
        "id": "U37XCbXTxStd",
        "outputId": "07805196-8172-4c95-bf75-dcb2271c1067"
      },
      "execution_count": 38,
      "outputs": [
        {
          "output_type": "stream",
          "name": "stdout",
          "text": [
            "Total de productos vendidos: 33574.0\n"
          ]
        }
      ]
    },
    {
      "cell_type": "code",
      "source": [
        "#19.  ¿Cuál es el promedio de productos por compra?\n",
        "\n",
        "promedio_productos_por_compra = df_dataset[\"Cantidad\"].mean()\n",
        "print(f\"Promedio de productos por compra: {promedio_productos_por_compra:.2f}\")"
      ],
      "metadata": {
        "colab": {
          "base_uri": "https://localhost:8080/"
        },
        "id": "OgiBklekxZ8N",
        "outputId": "074e7290-2790-47d2-bbf1-c153bae74451"
      },
      "execution_count": 39,
      "outputs": [
        {
          "output_type": "stream",
          "name": "stdout",
          "text": [
            "Promedio de productos por compra: 2.98\n"
          ]
        }
      ]
    },
    {
      "cell_type": "code",
      "source": [
        "#20.  ¿Qué porcentaje de las compras tiene más de una unidad?\n",
        "\n",
        "compras_mas_de_una_unidad = (df_dataset[\"Cantidad\"] > 1).sum()\n",
        "porcentaje = (compras_mas_de_una_unidad / df_dataset.shape[0]) * 100\n",
        "\n",
        "print(f\"Porcentaje de compras con más de una unidad: {porcentaje:.2f}%\")"
      ],
      "metadata": {
        "colab": {
          "base_uri": "https://localhost:8080/"
        },
        "id": "hiFI_nLzxke3",
        "outputId": "8a24193a-f51a-42ec-8366-cda1e4cea6ce"
      },
      "execution_count": 40,
      "outputs": [
        {
          "output_type": "stream",
          "name": "stdout",
          "text": [
            "Porcentaje de compras con más de una unidad: 79.50%\n"
          ]
        }
      ]
    },
    {
      "cell_type": "markdown",
      "source": [
        "PREGUNTAS DE NEGOCIO"
      ],
      "metadata": {
        "id": "qqPyREX8xsCn"
      }
    },
    {
      "cell_type": "code",
      "source": [
        "#1. ¿Qué productos debería promocionar la empresa en temporadas altas?\n",
        "\n",
        "productos_temporada_alta = df_dataset.groupby([\"Mes Compra\", \"Electrodoméstico\"])[\"Cantidad\"].sum().reset_index()\n",
        "productos_top = productos_temporada_alta.sort_values(by=[\"Mes Compra\", \"Cantidad\"], ascending=[True, False])\n",
        "\n",
        "print(\"Productos más vendidos en temporada alta:\")\n",
        "print(productos_top.head(10))  # Muestra los 10 principales\n"
      ],
      "metadata": {
        "colab": {
          "base_uri": "https://localhost:8080/"
        },
        "collapsed": true,
        "id": "tS2jwWQOxtrm",
        "outputId": "d3918d4c-cadb-4193-db90-096a6ffa06dc"
      },
      "execution_count": 41,
      "outputs": [
        {
          "output_type": "stream",
          "name": "stdout",
          "text": [
            "Productos más vendidos en temporada alta:\n",
            "   Mes Compra Electrodoméstico  Cantidad\n",
            "4           1        Licuadora     365.0\n",
            "8           1        Televisor     354.0\n",
            "7           1          Plancha     315.0\n",
            "5           1       Microondas     301.0\n",
            "2           1  Horno eléctrico     300.0\n",
            "9           1       Ventilador     293.0\n",
            "0           1       Aspiradora     269.0\n",
            "3           1         Lavadora     263.0\n",
            "1           1         Cafetera     254.0\n",
            "6           1           Nevera     243.0\n"
          ]
        }
      ]
    },
    {
      "cell_type": "code",
      "source": [
        "#2. ¿Hay clientes frecuentes o con tickets altos a los que se podría fidelizar?\n",
        "\n",
        "clientes_frecuentes = df_dataset.groupby([\"Nombre\", \"Apellido\"])[\"Valor Total\"].sum().reset_index()\n",
        "clientes_frecuentes = clientes_frecuentes.sort_values(by=\"Valor Total\", ascending=False)\n",
        "\n",
        "print(\"Clientes con tickets más altos:\")\n",
        "print(clientes_frecuentes.head(10) )"
      ],
      "metadata": {
        "colab": {
          "base_uri": "https://localhost:8080/"
        },
        "collapsed": true,
        "id": "OjrXMalIxwHI",
        "outputId": "5fe6473b-c21f-47d6-ad94-c5f41bb3e384"
      },
      "execution_count": 42,
      "outputs": [
        {
          "output_type": "stream",
          "name": "stdout",
          "text": [
            "Clientes con tickets más altos:\n",
            "           Nombre     Apellido  Valor Total\n",
            "2931  Desconocido  Desconocido     30400000\n",
            "6990       Marcia        Parra     18000000\n",
            "678      Ambrosio         Prat     15000000\n",
            "1467     Bautista   Villaverde     15000000\n",
            "8571       Pastor    Cifuentes     14400000\n",
            "727        Amparo      Artigas     13500000\n",
            "2622     Cristian     Manrique     12900000\n",
            "1341       Azahar     Figueroa     12000000\n",
            "9069         Raúl          Pou     11400000\n",
            "2775        Dafne      Álvarez     11000000\n"
          ]
        }
      ]
    },
    {
      "cell_type": "code",
      "source": [
        "#3. ¿Vale la pena mantener todos los productos en el portafolio?\n",
        "\n",
        "ventas_por_producto = df_dataset.groupby(\"Electrodoméstico\")[\"Cantidad\"].sum()\n",
        "productos_baja_demanda = ventas_por_producto[ventas_por_producto < 10]  # Ajustar umbral según negocio\n",
        "\n",
        "print(\"Productos con baja demanda:\")\n",
        "print(productos_baja_demanda)"
      ],
      "metadata": {
        "colab": {
          "base_uri": "https://localhost:8080/"
        },
        "collapsed": true,
        "id": "AwupG7e0xy30",
        "outputId": "71f81d91-da3d-44a6-b2ec-d623396a2a2e"
      },
      "execution_count": null,
      "outputs": [
        {
          "output_type": "stream",
          "name": "stdout",
          "text": [
            "Productos con baja demanda:\n",
            "Series([], Name: Cantidad, dtype: float64)\n"
          ]
        }
      ]
    },
    {
      "cell_type": "code",
      "source": [
        "#4. ¿Debería la empresa reforzar su logística en ciertos meses?\n",
        "\n",
        "compras_por_mes = df_dataset.groupby(\"Mes Compra\").size()\n",
        "compras_por_mes.plot(kind=\"bar\", color=\"skyblue\", edgecolor=\"black\")\n",
        "\n",
        "plt.xlabel(\"Mes\")\n",
        "plt.ylabel(\"Número de compras\")\n",
        "plt.title(\"Cantidad de compras por mes\")\n",
        "plt.xticks(rotation=0)\n",
        "plt.show()\n"
      ],
      "metadata": {
        "colab": {
          "base_uri": "https://localhost:8080/",
          "height": 472
        },
        "collapsed": true,
        "id": "dFpabkEbx1w0",
        "outputId": "cad5450a-db9c-4fca-bc6b-8c854ba4c3d4"
      },
      "execution_count": 43,
      "outputs": [
        {
          "output_type": "display_data",
          "data": {
            "text/plain": [
              "<Figure size 640x480 with 1 Axes>"
            ],
            "image/png": "[encoded data removed]"
          },
          "metadata": {}
        }
      ]
    },
    {
      "cell_type": "code",
      "source": [
        "#5. ¿Hay productos que parecen propensos a errores de registro?\n",
        "\n",
        "# Identificar outliers en cantidad y valor unitario\n",
        "outliers_cantidad = df_dataset[df_dataset[\"Cantidad\"] > df_dataset[\"Cantidad\"].quantile(0.99)]\n",
        "outliers_valor = df_dataset[df_dataset[\"Valor Unitario\"] > df_dataset[\"Valor Unitario\"].quantile(0.99)]\n",
        "\n",
        "print(\"Posibles errores en la cantidad registrada:\")\n",
        "print(outliers_cantidad)\n",
        "\n",
        "print(\"\\nPosibles errores en el valor unitario:\")\n",
        "print(outliers_valor)"
      ],
      "metadata": {
        "colab": {
          "base_uri": "https://localhost:8080/"
        },
        "collapsed": true,
        "id": "NjP1kEOvx6ET",
        "outputId": "9eb30b59-48af-4945-9377-65236dc50f57"
      },
      "execution_count": null,
      "outputs": [
        {
          "output_type": "stream",
          "name": "stdout",
          "text": [
            "Posibles errores en la cantidad registrada:\n",
            "Empty DataFrame\n",
            "Columns: [ID Compra, Nombre, Apellido, Electrodoméstico, Cantidad, Valor Unitario, Valor Total, Fecha Compra, Hora Compra, Año Compra, Mes Compra, Valor Medio por Unidad, Categoría]\n",
            "Index: []\n",
            "\n",
            "Posibles errores en el valor unitario:\n",
            "Empty DataFrame\n",
            "Columns: [ID Compra, Nombre, Apellido, Electrodoméstico, Cantidad, Valor Unitario, Valor Total, Fecha Compra, Hora Compra, Año Compra, Mes Compra, Valor Medio por Unidad, Categoría]\n",
            "Index: []\n"
          ]
        }
      ]
    },
    {
      "cell_type": "code",
      "source": [
        "#6. ¿Se puede usar esta información para proyecciones de stock?\n",
        "\n",
        "df_dataset[\"Fecha Compra\"] = pd.to_datetime(df_dataset[\"Fecha Compra\"])\n",
        "ventas_mensuales = df_dataset.groupby(pd.Grouper(key=\"Fecha Compra\", freq=\"M\"))[\"Cantidad\"].sum()\n",
        "\n",
        "# Calcular promedio móvil de 3 meses\n",
        "ventas_mensuales.rolling(window=3).mean().plot(title=\"Tendencia de ventas mensuales\", figsize=(10,5))\n",
        "plt.xlabel(\"Fecha\")\n",
        "plt.ylabel(\"Cantidad de ventas\")\n",
        "plt.show()"
      ],
      "metadata": {
        "colab": {
          "base_uri": "https://localhost:8080/",
          "height": 538
        },
        "collapsed": true,
        "id": "GXLQU8tZx9QM",
        "outputId": "5924e34a-2cdb-4e68-e9f0-728afae1bb5a"
      },
      "execution_count": 44,
      "outputs": [
        {
          "output_type": "stream",
          "name": "stderr",
          "text": [
            "<ipython-input-44-17c91dab1fb9>:4: FutureWarning: 'M' is deprecated and will be removed in a future version, please use 'ME' instead.\n",
            "  ventas_mensuales = df_dataset.groupby(pd.Grouper(key=\"Fecha Compra\", freq=\"M\"))[\"Cantidad\"].sum()\n"
          ]
        },
        {
          "output_type": "display_data",
          "data": {
            "text/plain": [
              "<Figure size 1000x500 with 1 Axes>"
            ],
            "image/png": "[encoded data removed]"
          },
          "metadata": {}
        }
      ]
    },
    {
      "cell_type": "code",
      "source": [
        "#7. ¿Qué productos podrían formar parte de combos?\n",
        "\n",
        "from itertools import combinations\n",
        "from collections import Counter\n",
        "\n",
        "# Crear combinaciones de productos por compra\n",
        "df_dataset[\"Cliente\"] = df_dataset[\"Nombre\"] + \" \" + df_dataset[\"Apellido\"]\n",
        "combos = df_dataset.groupby(\"Cliente\")[\"Electrodoméstico\"].apply(lambda x: list(combinations(x, 2)))\n",
        "\n",
        "# Contar combinaciones más frecuentes\n",
        "combos = [item for sublist in combos for item in sublist]\n",
        "print(\"Productos que suelen comprarse juntos:\")\n",
        "print(Counter(combos).most_common(10))\n"
      ],
      "metadata": {
        "colab": {
          "base_uri": "https://localhost:8080/"
        },
        "id": "cx3qnNwsyADh",
        "outputId": "fa1eb662-954c-44dc-e490-a1151125b5a1"
      },
      "execution_count": 45,
      "outputs": [
        {
          "output_type": "stream",
          "name": "stdout",
          "text": [
            "Productos que suelen comprarse juntos:\n",
            "[((nan, nan), 190), (('Lavadora', 'Lavadora'), 7), (('Horno eléctrico', 'Horno eléctrico'), 4), (('Licuadora', 'Licuadora'), 4), (('Aspiradora', 'Aspiradora'), 4), (('Horno eléctrico', 'Microondas'), 4), (('Plancha', 'Plancha'), 3), (('Microondas', 'Nevera'), 3), (('Cafetera', 'Cafetera'), 3), (('Microondas', 'Licuadora'), 3)]\n"
          ]
        }
      ]
    },
    {
      "cell_type": "code",
      "source": [
        "#8. ¿Dónde hay oportunidades de ventas cruzadas?\n",
        "\n",
        "clientes_por_producto = df_dataset.groupby(\"Electrodoméstico\")[\"Cliente\"].nunique()\n",
        "\n",
        "print(\"Clientes únicos por producto:\")\n",
        "print(clientes_por_producto)"
      ],
      "metadata": {
        "colab": {
          "base_uri": "https://localhost:8080/"
        },
        "collapsed": true,
        "id": "KdjtlbXdyCnR",
        "outputId": "cde781b0-d49d-47af-de7c-3db138142093"
      },
      "execution_count": 46,
      "outputs": [
        {
          "output_type": "stream",
          "name": "stdout",
          "text": [
            "Clientes únicos por producto:\n",
            "Electrodoméstico\n",
            "Aspiradora         1119\n",
            "Cafetera           1117\n",
            "Horno eléctrico    1081\n",
            "Lavadora           1125\n",
            "Licuadora          1149\n",
            "Microondas         1154\n",
            "Nevera             1132\n",
            "Plancha            1167\n",
            "Televisor          1085\n",
            "Ventilador         1091\n",
            "Name: Cliente, dtype: int64\n"
          ]
        }
      ]
    },
    {
      "cell_type": "code",
      "source": [
        "#9. ¿Qué franjas horarias podrían usarse para promociones digitales?\n",
        "\n",
        "compras_por_hora = df_dataset.groupby(\"Hora Compra\").size()\n",
        "compras_por_hora  = compras_por_hora.sort_values(ascending=False)\n",
        "compras_por_hora  = compras_por_hora.head(10)\n",
        "compras_por_hora.plot(kind=\"bar\", color=\"blue\", edgecolor=\"black\")\n",
        "\n",
        "plt.xlabel(\"Hora del día\")\n",
        "plt.ylabel(\"Cantidad de compras\")\n",
        "plt.title(\"Compras por franja horaria\")\n",
        "plt.xticks(rotation=0)\n",
        "plt.show()\n"
      ],
      "metadata": {
        "colab": {
          "base_uri": "https://localhost:8080/",
          "height": 472
        },
        "collapsed": true,
        "id": "nAoDlmEYyFMC",
        "outputId": "4dfc3161-a223-4f1c-da8b-89c11183a4ec"
      },
      "execution_count": 47,
      "outputs": [
        {
          "output_type": "display_data",
          "data": {
            "text/plain": [
              "<Figure size 640x480 with 1 Axes>"
            ],
            "image/png": "[encoded data removed]"
          },
          "metadata": {}
        }
      ]
    },
    {
      "cell_type": "code",
      "source": [
        "#10.  ¿Se podrían automatizar alertas para compras inusuales?\n",
        "\n",
        "alerta_compras_usuales = df_dataset.groupby(\"Cliente\")[\"Valor Total\"].mean()\n",
        "print(alerta_compras_usuales)\n",
        "\n",
        "\n"
      ],
      "metadata": {
        "colab": {
          "base_uri": "https://localhost:8080/"
        },
        "collapsed": true,
        "id": "tGrU5QURyHbP",
        "outputId": "a3b12f10-ac94-448c-e3c2-8d97bf0f720a"
      },
      "execution_count": null,
      "outputs": [
        {
          "output_type": "stream",
          "name": "stdout",
          "text": [
            "Cliente\n",
            "Aarón Anguita      1200000.0\n",
            "Aarón Aranda       7200000.0\n",
            "Aarón Badía         750000.0\n",
            "Aarón Cruz          200000.0\n",
            "Aarón Cuadrado     3000000.0\n",
            "                     ...    \n",
            "Úrsula Peralta     3000000.0\n",
            "Úrsula Salv        1200000.0\n",
            "Úrsula Toro        7200000.0\n",
            "Úrsula Valencia     450000.0\n",
            "Úrsula Zamora       800000.0\n",
            "Name: Valor Total, Length: 11157, dtype: float64\n"
          ]
        }
      ]
    },
    {
      "cell_type": "markdown",
      "source": [],
      "metadata": {
        "id": "WIc5kukOOvqn"
      }
    }
  ]
}